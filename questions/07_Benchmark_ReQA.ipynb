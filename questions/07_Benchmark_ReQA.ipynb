{
 "cells": [
  {
   "attachments": {},
   "cell_type": "markdown",
   "metadata": {},
   "source": [
    "# Benchmark ReQA\n",
    "- Input: `06_calculate_distance.parquet`"
   ]
  },
  {
   "cell_type": "code",
   "execution_count": 2,
   "metadata": {},
   "outputs": [
    {
     "name": "stderr",
     "output_type": "stream",
     "text": [
      "2023-08-30 16:18:04.414649: I tensorflow/core/util/port.cc:110] oneDNN custom operations are on. You may see slightly different numerical results due to floating-point round-off errors from different computation orders. To turn them off, set the environment variable `TF_ENABLE_ONEDNN_OPTS=0`.\n",
      "2023-08-30 16:18:04.439232: I tensorflow/core/platform/cpu_feature_guard.cc:182] This TensorFlow binary is optimized to use available CPU instructions in performance-critical operations.\n",
      "To enable the following instructions: AVX2 AVX_VNNI FMA, in other operations, rebuild TensorFlow with the appropriate compiler flags.\n",
      "2023-08-30 16:18:04.729101: W tensorflow/compiler/tf2tensorrt/utils/py_utils.cc:38] TF-TRT Warning: Could not find TensorRT\n"
     ]
    }
   ],
   "source": [
    "import pandas as pd\n",
    "import numpy as np\n",
    "from tqdm.notebook import tqdm\n",
    "from utils import encode_in_batch\n",
    "\n",
    "import tensorflow_text\n",
    "import tensorflow as tf\n",
    "import tensorflow_hub as hub"
   ]
  },
  {
   "cell_type": "code",
   "execution_count": 3,
   "metadata": {},
   "outputs": [
    {
     "data": {
      "text/html": [
       "<div>\n",
       "<style scoped>\n",
       "    .dataframe tbody tr th:only-of-type {\n",
       "        vertical-align: middle;\n",
       "    }\n",
       "\n",
       "    .dataframe tbody tr th {\n",
       "        vertical-align: top;\n",
       "    }\n",
       "\n",
       "    .dataframe thead th {\n",
       "        text-align: right;\n",
       "    }\n",
       "</style>\n",
       "<table border=\"1\" class=\"dataframe\">\n",
       "  <thead>\n",
       "    <tr style=\"text-align: right;\">\n",
       "      <th></th>\n",
       "      <th>id</th>\n",
       "      <th>question</th>\n",
       "      <th>context</th>\n",
       "      <th>answers</th>\n",
       "      <th>source</th>\n",
       "      <th>th_aug</th>\n",
       "      <th>th_fasttext_aug</th>\n",
       "      <th>th_llm_gec_aug</th>\n",
       "      <th>th_llm_paraphrase_aug</th>\n",
       "      <th>th_ltw2v_aug</th>\n",
       "      <th>...</th>\n",
       "      <th>dis_ltw2v_aug</th>\n",
       "      <th>dis_qcpg_0.2_aug</th>\n",
       "      <th>dis_qcpg_0.2_llm_gec_aug</th>\n",
       "      <th>dis_qcpg_0.5_aug</th>\n",
       "      <th>dis_qcpg_0.5_llm_gec_aug</th>\n",
       "      <th>dis_qcpg_0.8_aug</th>\n",
       "      <th>dis_qcpg_0.8_llm_gec_aug</th>\n",
       "      <th>dis_thai2fit_aug</th>\n",
       "      <th>dis_thai2trans_aug</th>\n",
       "      <th>dis_wordnet_aug</th>\n",
       "    </tr>\n",
       "  </thead>\n",
       "  <tbody>\n",
       "    <tr>\n",
       "      <th>0</th>\n",
       "      <td>82c589fda5d3007be968f303e04a9ac58953299a64a5be...</td>\n",
       "      <td>พัทธ์ธีรา ศรุติพงศ์โภคิน เกิดวันที่เท่าไร?</td>\n",
       "      <td>พัทธ์ธีรา ศรุติพงศ์โภคิน (เกิด 3 ธันวาคม พ.ศ. ...</td>\n",
       "      <td>{'text': ['3 ธันวาคม พ.ศ. 2533'], 'answer_star...</td>\n",
       "      <td>iapp</td>\n",
       "      <td>Phatthira Sarutpong Phokin วันเดือนปีเกิดคืออะไร?</td>\n",
       "      <td>พัณณ์ธีภ ศรุติวัฒน์2โภคิน เกิดวันที่ไหร่?</td>\n",
       "      <td>วันเดือนปีเกิดของ Phatthira Sarutpong Phokin ค...</td>\n",
       "      <td>Phatthira Sarutpong Phokin คุณช่วยจัดเตรียมวัน...</td>\n",
       "      <td>พัทธ์ธีรา ศรุติพงษ์โภคิน ทำให้เกิดวันอาทิตย์เท...</td>\n",
       "      <td>...</td>\n",
       "      <td>0.379822</td>\n",
       "      <td>0.457964</td>\n",
       "      <td>0.442132</td>\n",
       "      <td>0.442132</td>\n",
       "      <td>0.664607</td>\n",
       "      <td>0.373971</td>\n",
       "      <td>0.391374</td>\n",
       "      <td>0.213284</td>\n",
       "      <td>0.000000</td>\n",
       "      <td>9.606189e-02</td>\n",
       "    </tr>\n",
       "    <tr>\n",
       "      <th>1</th>\n",
       "      <td>6483e513603bd34b6f23a5fbe9e1c1db194ce4f4365a69...</td>\n",
       "      <td>พัทธ์ธีรา ศรุติพงศ์โภคิน มีฃื่อเล่นว่าอะไร?</td>\n",
       "      <td>พัทธ์ธีรา ศรุติพงศ์โภคิน (เกิด 3 ธันวาคม พ.ศ. ...</td>\n",
       "      <td>{'text': ['อร'], 'answer_start': [68], 'answer...</td>\n",
       "      <td>iapp</td>\n",
       "      <td>Phatthira Sarutpong Phokin คุณกำลังเล่นอะไรอยู่?</td>\n",
       "      <td>พัทธ์ธีรา ศิษฎพงศ์อรัช dcccxxxii ในPSPเล่นว่าอ...</td>\n",
       "      <td>คุณกำลังเล่นอะไร Phatthira Sarutpong Phokin?</td>\n",
       "      <td>Phatthira Sarutpong Phokin คุณกำลังเล่นเกมอะไร...</td>\n",
       "      <td>พัทธ์ธีรา ศรุติพงษ์โภคิน มีฃื่อเล่นว่าอะไร?</td>\n",
       "      <td>...</td>\n",
       "      <td>0.028428</td>\n",
       "      <td>0.512295</td>\n",
       "      <td>0.604564</td>\n",
       "      <td>0.552465</td>\n",
       "      <td>0.590820</td>\n",
       "      <td>0.583206</td>\n",
       "      <td>0.645776</td>\n",
       "      <td>0.232190</td>\n",
       "      <td>0.000000</td>\n",
       "      <td>0.000000e+00</td>\n",
       "    </tr>\n",
       "    <tr>\n",
       "      <th>2</th>\n",
       "      <td>09fc57198420c10d8cd67154a154cca37fdcde53ec894a...</td>\n",
       "      <td>พัทธ์ธีรา ศรุติพงศ์โภคิน ทำอาชีพอะไร?</td>\n",
       "      <td>พัทธ์ธีรา ศรุติพงศ์โภคิน (เกิด 3 ธันวาคม พ.ศ. ...</td>\n",
       "      <td>{'text': ['นักแสดงหญิงชาวไทย'], 'answer_start'...</td>\n",
       "      <td>iapp</td>\n",
       "      <td>อาชีพของ Phatthira Teerathiyapong Phokin คืออะไร?</td>\n",
       "      <td>รพนธ์ธีคาต ศรุติวรรณ2โภคิน ทำอาชีพอะไร4?</td>\n",
       "      <td>อาชีพของ Phatthira Teerathiyapong Phokin คืออะไร?</td>\n",
       "      <td>อาชีพของ Phatthira Teerathiyapong Phokin คืออะไร?</td>\n",
       "      <td>พัทธ์ธีรา ศรุติพงษ์โภคิน ทำอาชีพอะไร?</td>\n",
       "      <td>...</td>\n",
       "      <td>0.017806</td>\n",
       "      <td>0.408607</td>\n",
       "      <td>0.408607</td>\n",
       "      <td>0.346143</td>\n",
       "      <td>0.346143</td>\n",
       "      <td>0.328919</td>\n",
       "      <td>0.328919</td>\n",
       "      <td>0.150410</td>\n",
       "      <td>0.000000</td>\n",
       "      <td>0.000000e+00</td>\n",
       "    </tr>\n",
       "    <tr>\n",
       "      <th>3</th>\n",
       "      <td>7b2f336d3dbc29c6fb1edf7f4988f968ed0a1272fe8aff...</td>\n",
       "      <td>พัทธ์ธีรา ศรุติพงศ์โภคิน จบการศึกษาจากประเทศอะไร?</td>\n",
       "      <td>พัทธ์ธีรา ศรุติพงศ์โภคิน (เกิด 3 ธันวาคม พ.ศ. ...</td>\n",
       "      <td>{'text': ['ประเทศนิวซีแลนด์'], 'answer_start':...</td>\n",
       "      <td>iapp</td>\n",
       "      <td>Phatthira Sarutpong Phokin จบการศึกษาจากประเทศ...</td>\n",
       "      <td>พัทธ์ธีรา ตอัตถพงศ์ฯกุล1 จบการศึกษาจากภ.ต่างอะ...</td>\n",
       "      <td>Phatthira Sarutpong Phokin จบการศึกษาจากประเทศใด?</td>\n",
       "      <td>Phatthira Sarutpong Phokin จากประเทศใดจากการศึ...</td>\n",
       "      <td>พัทธ์ธีรา ศรุติพงษ์โภคิน จบการศึกษาจากในประเทศ...</td>\n",
       "      <td>...</td>\n",
       "      <td>0.044393</td>\n",
       "      <td>0.600420</td>\n",
       "      <td>0.717404</td>\n",
       "      <td>0.606477</td>\n",
       "      <td>0.717404</td>\n",
       "      <td>0.433692</td>\n",
       "      <td>0.523367</td>\n",
       "      <td>0.155829</td>\n",
       "      <td>0.009204</td>\n",
       "      <td>1.820072e-01</td>\n",
       "    </tr>\n",
       "    <tr>\n",
       "      <th>4</th>\n",
       "      <td>50c66c986cdf19b60f36da1b89137a6ceb4f11aa9ed0e9...</td>\n",
       "      <td>บิดาของคลีโอพัตราเป็นใคร?</td>\n",
       "      <td>คลีโอพัตราที่ 7 ฟิโลพาเธอร์ (กรีก: Κλεοπάτρα θ...</td>\n",
       "      <td>{'text': ['ทอเลมีที่ 12 ออเลติส'], 'answer_sta...</td>\n",
       "      <td>iapp</td>\n",
       "      <td>พ่อของคลีโอพัตราคือใคร?</td>\n",
       "      <td>บิดาของมเนสโอพัตตกฺขหลายๆใคร?</td>\n",
       "      <td>พ่อของคลีโอพัตราคือใคร?</td>\n",
       "      <td>พ่อผู้ให้กำเนิดของคลีโอพัตราคือใคร?</td>\n",
       "      <td>มารดาของคลีโอพัตราเป็นใคร?</td>\n",
       "      <td>...</td>\n",
       "      <td>0.180941</td>\n",
       "      <td>0.238710</td>\n",
       "      <td>0.388979</td>\n",
       "      <td>0.151006</td>\n",
       "      <td>0.443043</td>\n",
       "      <td>0.097685</td>\n",
       "      <td>0.097685</td>\n",
       "      <td>0.150196</td>\n",
       "      <td>0.156331</td>\n",
       "      <td>8.621460e-02</td>\n",
       "    </tr>\n",
       "    <tr>\n",
       "      <th>...</th>\n",
       "      <td>...</td>\n",
       "      <td>...</td>\n",
       "      <td>...</td>\n",
       "      <td>...</td>\n",
       "      <td>...</td>\n",
       "      <td>...</td>\n",
       "      <td>...</td>\n",
       "      <td>...</td>\n",
       "      <td>...</td>\n",
       "      <td>...</td>\n",
       "      <td>...</td>\n",
       "      <td>...</td>\n",
       "      <td>...</td>\n",
       "      <td>...</td>\n",
       "      <td>...</td>\n",
       "      <td>...</td>\n",
       "      <td>...</td>\n",
       "      <td>...</td>\n",
       "      <td>...</td>\n",
       "      <td>...</td>\n",
       "      <td>...</td>\n",
       "    </tr>\n",
       "    <tr>\n",
       "      <th>16975</th>\n",
       "      <td>e780cc4812dd88f21ec7f0152905b15588d1a6faab66d2...</td>\n",
       "      <td>หนังสือการ์ตูนชานะ นักรบเนตรอัคคี มีกี่เล่ม?</td>\n",
       "      <td>นิยาย ชานะ นักรบเนตรอัคคี แต่งโดย ยาชิจิโร ทาค...</td>\n",
       "      <td>{'text': ['22', '26'], 'answer_start': [267, 9...</td>\n",
       "      <td>tydiqa</td>\n",
       "      <td>หนังสือการ์ตูนนักรบดับเพลิงกี่คน?</td>\n",
       "      <td>หนังสือDIYการ์ตูนPokemonชานะ อุดมการณ์ถ.ทิพยเน...</td>\n",
       "      <td>นักรบดับเพลิงมีกี่คนในหนังสือการ์ตูน?</td>\n",
       "      <td>ในหนังสือการ์ตูนมีนักรบดับเพลิงกี่คน?</td>\n",
       "      <td>หนังสือการ์ตูนชาน่ะ นักรบเนตรอัคคี มีกี่เล่ม?</td>\n",
       "      <td>...</td>\n",
       "      <td>0.038205</td>\n",
       "      <td>0.459041</td>\n",
       "      <td>0.345795</td>\n",
       "      <td>0.330124</td>\n",
       "      <td>0.345795</td>\n",
       "      <td>0.363513</td>\n",
       "      <td>0.284700</td>\n",
       "      <td>0.063899</td>\n",
       "      <td>0.012518</td>\n",
       "      <td>1.700147e-01</td>\n",
       "    </tr>\n",
       "    <tr>\n",
       "      <th>16976</th>\n",
       "      <td>dd424979403f3909773a832c4d83818e564fe7bfeb4f38...</td>\n",
       "      <td>ไบโอช็อก อินฟินิต เปิดตัวครั้งแรกเมื่อไหร่?</td>\n",
       "      <td>ไบโอช็อก อินฟินิต (English: BioShock Infinite)...</td>\n",
       "      <td>{'text': ['26 มีนาคม พ.ศ. 2556', '26 มีนาคม พ....</td>\n",
       "      <td>tydiqa</td>\n",
       "      <td>BioShock Infin เปิดตัวครั้งแรกเมื่อใด?</td>\n",
       "      <td>ไบโอมีช๊อค อร์เนชยมีฟิตี้07ต เปิดตัวครั้งแรกเม...</td>\n",
       "      <td>BioShock Infinite เปิดตัวครั้งแรกเมื่อใด?</td>\n",
       "      <td>การเปิดตัวครั้งแรกของ BioShock Infinite คือเมื...</td>\n",
       "      <td>ไบโอช็อค อินฟินิต เผยโฉมเป็นครั้งแรกเมื่อไร?</td>\n",
       "      <td>...</td>\n",
       "      <td>0.168088</td>\n",
       "      <td>0.609325</td>\n",
       "      <td>0.713147</td>\n",
       "      <td>0.475034</td>\n",
       "      <td>0.686884</td>\n",
       "      <td>0.482104</td>\n",
       "      <td>0.602809</td>\n",
       "      <td>0.097678</td>\n",
       "      <td>0.007531</td>\n",
       "      <td>1.192093e-07</td>\n",
       "    </tr>\n",
       "    <tr>\n",
       "      <th>16977</th>\n",
       "      <td>d131cf44b5a08630e822cbf4c33576a434095f6ff4184f...</td>\n",
       "      <td>ยู ซึง-โฮ เริ่มเข้าวงการบันเทิงเมื่อไหร่?</td>\n",
       "      <td>ยู ซึง-โฮเดบิวต์เมื่อปี 1999 กับผลงานโฆษณาของ ...</td>\n",
       "      <td>{'text': ['ปี 1999', '1999'], 'answer_start': ...</td>\n",
       "      <td>tydiqa</td>\n",
       "      <td>คุณเริ่มอุตสาหกรรมบันเทิงเมื่อใด?</td>\n",
       "      <td>แค็น จีว็อน - เทล134 เริ่มและวงการบันเทิงเมื่อ...</td>\n",
       "      <td>คุณเริ่มต้นในวงการบันเทิงเมื่อไหร่?</td>\n",
       "      <td>คุณเริ่มต้นอาชีพในวงการบันเทิงเมื่อใด?</td>\n",
       "      <td>ยู ซึง/โฮ เริ่มเข้าแวดวงบันเทิงเมื่อไร?</td>\n",
       "      <td>...</td>\n",
       "      <td>0.147063</td>\n",
       "      <td>0.494179</td>\n",
       "      <td>0.408682</td>\n",
       "      <td>0.427225</td>\n",
       "      <td>0.427225</td>\n",
       "      <td>0.281754</td>\n",
       "      <td>0.281754</td>\n",
       "      <td>0.097239</td>\n",
       "      <td>0.020207</td>\n",
       "      <td>3.102648e-02</td>\n",
       "    </tr>\n",
       "    <tr>\n",
       "      <th>16978</th>\n",
       "      <td>5e2f4e69eb82918a55969ec99b1c93ae469c264c81c77a...</td>\n",
       "      <td>นภัทร อินทร์ใจเอื้อมีมารดาชื่อว่าอะไร?</td>\n",
       "      <td>กันเกิดเมื่อวันที่ 23 ตุลาคม พ.ศ. 2533 จังหวัด...</td>\n",
       "      <td>{'text': ['นางวรรณา อินทร์ใจเอื้อ', 'นางวรรณา ...</td>\n",
       "      <td>tydiqa</td>\n",
       "      <td>Naphat Injai UA มีแม่ชื่อหรือไม่?</td>\n",
       "      <td>นภัทร เรือง2ใจนพ.กำ dccclxxiv สูติบัตรชื่อว่าอ...</td>\n",
       "      <td>แม่ของ Naphat Injai UA ชื่ออะไร?</td>\n",
       "      <td>แม่ของ Naphat Injai UA ชื่ออะไร?</td>\n",
       "      <td>น,ภัทร อินทร์ใจเอื้อมีบิดาชื่อว่าอะไร?</td>\n",
       "      <td>...</td>\n",
       "      <td>0.261721</td>\n",
       "      <td>0.521876</td>\n",
       "      <td>0.453781</td>\n",
       "      <td>0.477457</td>\n",
       "      <td>0.396092</td>\n",
       "      <td>0.477457</td>\n",
       "      <td>0.386560</td>\n",
       "      <td>0.000000</td>\n",
       "      <td>0.049580</td>\n",
       "      <td>6.229120e-02</td>\n",
       "    </tr>\n",
       "    <tr>\n",
       "      <th>16979</th>\n",
       "      <td>78661a10d85fed62553d88c830614dbd2dd0b0aada032e...</td>\n",
       "      <td>หม่อมราชวงศ์สุขุมพันธุ์ บริพัตร เกิดเมื่อไหร่?</td>\n",
       "      <td>รองศาสตราจารย์ หม่อมราชวงศ์สุขุมพันธุ์ บริพัตร...</td>\n",
       "      <td>{'text': ['22 กันยายน 2495', '22 กันยายน 2495'...</td>\n",
       "      <td>tydiqa</td>\n",
       "      <td>Sukhumnaphan Boriphat เกิดเมื่อใด?</td>\n",
       "      <td>หม่อมราชวงศ์ดร.สุขุมพันธุ์All บริพัตร บังเอิญเ...</td>\n",
       "      <td>Sukhumnaphan Boriphat เกิดเมื่อไหร่?</td>\n",
       "      <td>Sukhumnaphan Boriphat เกิดเมื่อไหร่?</td>\n",
       "      <td>ม.ร.ว.สุขุมพันธุ์ บริพัตร ทำให้เกิดเมื่อไร?</td>\n",
       "      <td>...</td>\n",
       "      <td>0.337594</td>\n",
       "      <td>0.514940</td>\n",
       "      <td>0.489190</td>\n",
       "      <td>0.588600</td>\n",
       "      <td>0.541724</td>\n",
       "      <td>0.352415</td>\n",
       "      <td>0.354883</td>\n",
       "      <td>0.106681</td>\n",
       "      <td>0.003927</td>\n",
       "      <td>0.000000e+00</td>\n",
       "    </tr>\n",
       "  </tbody>\n",
       "</table>\n",
       "<p>16980 rows × 42 columns</p>\n",
       "</div>"
      ],
      "text/plain": [
       "                                                      id  \\\n",
       "0      82c589fda5d3007be968f303e04a9ac58953299a64a5be...   \n",
       "1      6483e513603bd34b6f23a5fbe9e1c1db194ce4f4365a69...   \n",
       "2      09fc57198420c10d8cd67154a154cca37fdcde53ec894a...   \n",
       "3      7b2f336d3dbc29c6fb1edf7f4988f968ed0a1272fe8aff...   \n",
       "4      50c66c986cdf19b60f36da1b89137a6ceb4f11aa9ed0e9...   \n",
       "...                                                  ...   \n",
       "16975  e780cc4812dd88f21ec7f0152905b15588d1a6faab66d2...   \n",
       "16976  dd424979403f3909773a832c4d83818e564fe7bfeb4f38...   \n",
       "16977  d131cf44b5a08630e822cbf4c33576a434095f6ff4184f...   \n",
       "16978  5e2f4e69eb82918a55969ec99b1c93ae469c264c81c77a...   \n",
       "16979  78661a10d85fed62553d88c830614dbd2dd0b0aada032e...   \n",
       "\n",
       "                                                question  \\\n",
       "0             พัทธ์ธีรา ศรุติพงศ์โภคิน เกิดวันที่เท่าไร?   \n",
       "1            พัทธ์ธีรา ศรุติพงศ์โภคิน มีฃื่อเล่นว่าอะไร?   \n",
       "2                  พัทธ์ธีรา ศรุติพงศ์โภคิน ทำอาชีพอะไร?   \n",
       "3      พัทธ์ธีรา ศรุติพงศ์โภคิน จบการศึกษาจากประเทศอะไร?   \n",
       "4                              บิดาของคลีโอพัตราเป็นใคร?   \n",
       "...                                                  ...   \n",
       "16975       หนังสือการ์ตูนชานะ นักรบเนตรอัคคี มีกี่เล่ม?   \n",
       "16976        ไบโอช็อก อินฟินิต เปิดตัวครั้งแรกเมื่อไหร่?   \n",
       "16977          ยู ซึง-โฮ เริ่มเข้าวงการบันเทิงเมื่อไหร่?   \n",
       "16978             นภัทร อินทร์ใจเอื้อมีมารดาชื่อว่าอะไร?   \n",
       "16979     หม่อมราชวงศ์สุขุมพันธุ์ บริพัตร เกิดเมื่อไหร่?   \n",
       "\n",
       "                                                 context  \\\n",
       "0      พัทธ์ธีรา ศรุติพงศ์โภคิน (เกิด 3 ธันวาคม พ.ศ. ...   \n",
       "1      พัทธ์ธีรา ศรุติพงศ์โภคิน (เกิด 3 ธันวาคม พ.ศ. ...   \n",
       "2      พัทธ์ธีรา ศรุติพงศ์โภคิน (เกิด 3 ธันวาคม พ.ศ. ...   \n",
       "3      พัทธ์ธีรา ศรุติพงศ์โภคิน (เกิด 3 ธันวาคม พ.ศ. ...   \n",
       "4      คลีโอพัตราที่ 7 ฟิโลพาเธอร์ (กรีก: Κλεοπάτρα θ...   \n",
       "...                                                  ...   \n",
       "16975  นิยาย ชานะ นักรบเนตรอัคคี แต่งโดย ยาชิจิโร ทาค...   \n",
       "16976  ไบโอช็อก อินฟินิต (English: BioShock Infinite)...   \n",
       "16977  ยู ซึง-โฮเดบิวต์เมื่อปี 1999 กับผลงานโฆษณาของ ...   \n",
       "16978  กันเกิดเมื่อวันที่ 23 ตุลาคม พ.ศ. 2533 จังหวัด...   \n",
       "16979  รองศาสตราจารย์ หม่อมราชวงศ์สุขุมพันธุ์ บริพัตร...   \n",
       "\n",
       "                                                 answers  source  \\\n",
       "0      {'text': ['3 ธันวาคม พ.ศ. 2533'], 'answer_star...    iapp   \n",
       "1      {'text': ['อร'], 'answer_start': [68], 'answer...    iapp   \n",
       "2      {'text': ['นักแสดงหญิงชาวไทย'], 'answer_start'...    iapp   \n",
       "3      {'text': ['ประเทศนิวซีแลนด์'], 'answer_start':...    iapp   \n",
       "4      {'text': ['ทอเลมีที่ 12 ออเลติส'], 'answer_sta...    iapp   \n",
       "...                                                  ...     ...   \n",
       "16975  {'text': ['22', '26'], 'answer_start': [267, 9...  tydiqa   \n",
       "16976  {'text': ['26 มีนาคม พ.ศ. 2556', '26 มีนาคม พ....  tydiqa   \n",
       "16977  {'text': ['ปี 1999', '1999'], 'answer_start': ...  tydiqa   \n",
       "16978  {'text': ['นางวรรณา อินทร์ใจเอื้อ', 'นางวรรณา ...  tydiqa   \n",
       "16979  {'text': ['22 กันยายน 2495', '22 กันยายน 2495'...  tydiqa   \n",
       "\n",
       "                                                  th_aug  \\\n",
       "0      Phatthira Sarutpong Phokin วันเดือนปีเกิดคืออะไร?   \n",
       "1       Phatthira Sarutpong Phokin คุณกำลังเล่นอะไรอยู่?   \n",
       "2      อาชีพของ Phatthira Teerathiyapong Phokin คืออะไร?   \n",
       "3      Phatthira Sarutpong Phokin จบการศึกษาจากประเทศ...   \n",
       "4                                พ่อของคลีโอพัตราคือใคร?   \n",
       "...                                                  ...   \n",
       "16975                  หนังสือการ์ตูนนักรบดับเพลิงกี่คน?   \n",
       "16976             BioShock Infin เปิดตัวครั้งแรกเมื่อใด?   \n",
       "16977                  คุณเริ่มอุตสาหกรรมบันเทิงเมื่อใด?   \n",
       "16978                  Naphat Injai UA มีแม่ชื่อหรือไม่?   \n",
       "16979                 Sukhumnaphan Boriphat เกิดเมื่อใด?   \n",
       "\n",
       "                                         th_fasttext_aug  \\\n",
       "0              พัณณ์ธีภ ศรุติวัฒน์2โภคิน เกิดวันที่ไหร่?   \n",
       "1      พัทธ์ธีรา ศิษฎพงศ์อรัช dcccxxxii ในPSPเล่นว่าอ...   \n",
       "2               รพนธ์ธีคาต ศรุติวรรณ2โภคิน ทำอาชีพอะไร4?   \n",
       "3      พัทธ์ธีรา ตอัตถพงศ์ฯกุล1 จบการศึกษาจากภ.ต่างอะ...   \n",
       "4                          บิดาของมเนสโอพัตตกฺขหลายๆใคร?   \n",
       "...                                                  ...   \n",
       "16975  หนังสือDIYการ์ตูนPokemonชานะ อุดมการณ์ถ.ทิพยเน...   \n",
       "16976  ไบโอมีช๊อค อร์เนชยมีฟิตี้07ต เปิดตัวครั้งแรกเม...   \n",
       "16977  แค็น จีว็อน - เทล134 เริ่มและวงการบันเทิงเมื่อ...   \n",
       "16978  นภัทร เรือง2ใจนพ.กำ dccclxxiv สูติบัตรชื่อว่าอ...   \n",
       "16979  หม่อมราชวงศ์ดร.สุขุมพันธุ์All บริพัตร บังเอิญเ...   \n",
       "\n",
       "                                          th_llm_gec_aug  \\\n",
       "0      วันเดือนปีเกิดของ Phatthira Sarutpong Phokin ค...   \n",
       "1           คุณกำลังเล่นอะไร Phatthira Sarutpong Phokin?   \n",
       "2      อาชีพของ Phatthira Teerathiyapong Phokin คืออะไร?   \n",
       "3      Phatthira Sarutpong Phokin จบการศึกษาจากประเทศใด?   \n",
       "4                                พ่อของคลีโอพัตราคือใคร?   \n",
       "...                                                  ...   \n",
       "16975              นักรบดับเพลิงมีกี่คนในหนังสือการ์ตูน?   \n",
       "16976          BioShock Infinite เปิดตัวครั้งแรกเมื่อใด?   \n",
       "16977                คุณเริ่มต้นในวงการบันเทิงเมื่อไหร่?   \n",
       "16978                   แม่ของ Naphat Injai UA ชื่ออะไร?   \n",
       "16979               Sukhumnaphan Boriphat เกิดเมื่อไหร่?   \n",
       "\n",
       "                                   th_llm_paraphrase_aug  \\\n",
       "0      Phatthira Sarutpong Phokin คุณช่วยจัดเตรียมวัน...   \n",
       "1      Phatthira Sarutpong Phokin คุณกำลังเล่นเกมอะไร...   \n",
       "2      อาชีพของ Phatthira Teerathiyapong Phokin คืออะไร?   \n",
       "3      Phatthira Sarutpong Phokin จากประเทศใดจากการศึ...   \n",
       "4                    พ่อผู้ให้กำเนิดของคลีโอพัตราคือใคร?   \n",
       "...                                                  ...   \n",
       "16975              ในหนังสือการ์ตูนมีนักรบดับเพลิงกี่คน?   \n",
       "16976  การเปิดตัวครั้งแรกของ BioShock Infinite คือเมื...   \n",
       "16977             คุณเริ่มต้นอาชีพในวงการบันเทิงเมื่อใด?   \n",
       "16978                   แม่ของ Naphat Injai UA ชื่ออะไร?   \n",
       "16979               Sukhumnaphan Boriphat เกิดเมื่อไหร่?   \n",
       "\n",
       "                                            th_ltw2v_aug  ... dis_ltw2v_aug  \\\n",
       "0      พัทธ์ธีรา ศรุติพงษ์โภคิน ทำให้เกิดวันอาทิตย์เท...  ...      0.379822   \n",
       "1            พัทธ์ธีรา ศรุติพงษ์โภคิน มีฃื่อเล่นว่าอะไร?  ...      0.028428   \n",
       "2                  พัทธ์ธีรา ศรุติพงษ์โภคิน ทำอาชีพอะไร?  ...      0.017806   \n",
       "3      พัทธ์ธีรา ศรุติพงษ์โภคิน จบการศึกษาจากในประเทศ...  ...      0.044393   \n",
       "4                             มารดาของคลีโอพัตราเป็นใคร?  ...      0.180941   \n",
       "...                                                  ...  ...           ...   \n",
       "16975      หนังสือการ์ตูนชาน่ะ นักรบเนตรอัคคี มีกี่เล่ม?  ...      0.038205   \n",
       "16976       ไบโอช็อค อินฟินิต เผยโฉมเป็นครั้งแรกเมื่อไร?  ...      0.168088   \n",
       "16977            ยู ซึง/โฮ เริ่มเข้าแวดวงบันเทิงเมื่อไร?  ...      0.147063   \n",
       "16978             น,ภัทร อินทร์ใจเอื้อมีบิดาชื่อว่าอะไร?  ...      0.261721   \n",
       "16979        ม.ร.ว.สุขุมพันธุ์ บริพัตร ทำให้เกิดเมื่อไร?  ...      0.337594   \n",
       "\n",
       "      dis_qcpg_0.2_aug dis_qcpg_0.2_llm_gec_aug dis_qcpg_0.5_aug  \\\n",
       "0             0.457964                 0.442132         0.442132   \n",
       "1             0.512295                 0.604564         0.552465   \n",
       "2             0.408607                 0.408607         0.346143   \n",
       "3             0.600420                 0.717404         0.606477   \n",
       "4             0.238710                 0.388979         0.151006   \n",
       "...                ...                      ...              ...   \n",
       "16975         0.459041                 0.345795         0.330124   \n",
       "16976         0.609325                 0.713147         0.475034   \n",
       "16977         0.494179                 0.408682         0.427225   \n",
       "16978         0.521876                 0.453781         0.477457   \n",
       "16979         0.514940                 0.489190         0.588600   \n",
       "\n",
       "      dis_qcpg_0.5_llm_gec_aug dis_qcpg_0.8_aug dis_qcpg_0.8_llm_gec_aug  \\\n",
       "0                     0.664607         0.373971                 0.391374   \n",
       "1                     0.590820         0.583206                 0.645776   \n",
       "2                     0.346143         0.328919                 0.328919   \n",
       "3                     0.717404         0.433692                 0.523367   \n",
       "4                     0.443043         0.097685                 0.097685   \n",
       "...                        ...              ...                      ...   \n",
       "16975                 0.345795         0.363513                 0.284700   \n",
       "16976                 0.686884         0.482104                 0.602809   \n",
       "16977                 0.427225         0.281754                 0.281754   \n",
       "16978                 0.396092         0.477457                 0.386560   \n",
       "16979                 0.541724         0.352415                 0.354883   \n",
       "\n",
       "      dis_thai2fit_aug dis_thai2trans_aug dis_wordnet_aug  \n",
       "0             0.213284           0.000000    9.606189e-02  \n",
       "1             0.232190           0.000000    0.000000e+00  \n",
       "2             0.150410           0.000000    0.000000e+00  \n",
       "3             0.155829           0.009204    1.820072e-01  \n",
       "4             0.150196           0.156331    8.621460e-02  \n",
       "...                ...                ...             ...  \n",
       "16975         0.063899           0.012518    1.700147e-01  \n",
       "16976         0.097678           0.007531    1.192093e-07  \n",
       "16977         0.097239           0.020207    3.102648e-02  \n",
       "16978         0.000000           0.049580    6.229120e-02  \n",
       "16979         0.106681           0.003927    0.000000e+00  \n",
       "\n",
       "[16980 rows x 42 columns]"
      ]
     },
     "execution_count": 3,
     "metadata": {},
     "output_type": "execute_result"
    }
   ],
   "source": [
    "data = pd.read_parquet('data/06_calculate_distance.parquet')\n",
    "data"
   ]
  },
  {
   "cell_type": "code",
   "execution_count": 4,
   "metadata": {},
   "outputs": [
    {
     "data": {
      "text/plain": [
       "[None,\n",
       " 'th_aug',\n",
       " 'th_fasttext_aug',\n",
       " 'th_llm_gec_aug',\n",
       " 'th_llm_paraphrase_aug',\n",
       " 'th_ltw2v_aug',\n",
       " 'th_qcpg_0.2_aug',\n",
       " 'th_qcpg_0.2_llm_gec_aug',\n",
       " 'th_qcpg_0.5_aug',\n",
       " 'th_qcpg_0.5_llm_gec_aug',\n",
       " 'th_qcpg_0.8_aug',\n",
       " 'th_qcpg_0.8_llm_gec_aug',\n",
       " 'th_thai2fit_aug',\n",
       " 'th_thai2trans_aug',\n",
       " 'th_wordnet_aug']"
      ]
     },
     "execution_count": 4,
     "metadata": {},
     "output_type": "execute_result"
    }
   ],
   "source": [
    "# Add None so that the first benchmark only consists of the original questions\n",
    "all_augment_cols = [None] + [col for col in data.columns if col.startswith('th_')]\n",
    "all_augment_cols"
   ]
  },
  {
   "cell_type": "code",
   "execution_count": 5,
   "metadata": {},
   "outputs": [
    {
     "name": "stderr",
     "output_type": "stream",
     "text": [
      "2023-08-30 16:18:05.929850: I tensorflow/compiler/xla/stream_executor/cuda/cuda_gpu_executor.cc:995] successful NUMA node read from SysFS had negative value (-1), but there must be at least one NUMA node, so returning NUMA node zero. See more at https://github.com/torvalds/linux/blob/v6.0/Documentation/ABI/testing/sysfs-bus-pci#L344-L355\n",
      "2023-08-30 16:18:05.944769: W tensorflow/core/common_runtime/gpu/gpu_device.cc:1960] Cannot dlopen some GPU libraries. Please make sure the missing libraries mentioned above are installed properly if you would like to use GPU. Follow the guide at https://www.tensorflow.org/install/gpu for how to download and setup the required libraries for your platform.\n",
      "Skipping registering GPU devices...\n"
     ]
    }
   ],
   "source": [
    "model_embed = hub.load(\"https://tfhub.dev/google/universal-sentence-encoder-multilingual/3\")"
   ]
  },
  {
   "cell_type": "code",
   "execution_count": 6,
   "metadata": {},
   "outputs": [],
   "source": [
    "def evaluate(\n",
    "    question_id, question_all, context_id, context_all, mrr_rank=10, status=True\n",
    "):\n",
    "    top_1 = 0\n",
    "    top_5 = 0\n",
    "    top_10 = 0\n",
    "    mrr_score = 0\n",
    "    context_id = np.array(context_id)\n",
    "    sim_score = np.inner(question_all, context_all)\n",
    "    if status == True:\n",
    "        status_bar = enumerate(tqdm(sim_score))\n",
    "    else:\n",
    "        status_bar = enumerate(sim_score)\n",
    "    for idx, sim in status_bar:\n",
    "        index = np.argsort(sim)[::-1]\n",
    "        index_edit = [context_id[x] for x in index]\n",
    "        try:\n",
    "            idx_search = list(index_edit).index(question_id[idx])\n",
    "        except:\n",
    "            idx_search = 999999\n",
    "        if idx_search == 0:\n",
    "            top_1 += 1\n",
    "            top_5 += 1\n",
    "            top_10 += 1\n",
    "        elif idx_search < 5:\n",
    "            top_5 += 1\n",
    "            top_10 += 1\n",
    "        elif idx_search < 10:\n",
    "            top_10 += 1\n",
    "        if idx_search < mrr_rank:\n",
    "            mrr_score += 1 / (idx_search + 1)\n",
    "    return (\n",
    "        top_1 / len(question_all),\n",
    "        top_5 / len(question_all),\n",
    "        top_10 / len(question_all),\n",
    "        mrr_score / len(question_all),\n",
    "    )"
   ]
  },
  {
   "cell_type": "code",
   "execution_count": 7,
   "metadata": {},
   "outputs": [],
   "source": [
    "def benchmark_single(data, question_col=\"question\", aug_col=None, model_embed=model_embed, filter_zero_dist=True):\n",
    "    # Check if column has a distance counterpart\n",
    "    questions = data[question_col].values\n",
    "\n",
    "    question_all = encode_in_batch(model_embed, questions)\n",
    "    context_all = encode_in_batch(model_embed, data[\"context\"].values)\n",
    "\n",
    "    question_ids = data[\"id\"].values\n",
    "    context_ids = data[\"id\"].values\n",
    "\n",
    "    if aug_col:\n",
    "        augments = data[aug_col].values\n",
    "\n",
    "        if filter_zero_dist:\n",
    "            distances = data[aug_col.replace(\"th_\", \"dis_\")].values\n",
    "            augments = augments[distances > 0]\n",
    "            augment_ids = data[\"id\"].values[distances > 0]\n",
    "        else:\n",
    "            augment_ids = data[\"id\"].values\n",
    "        \n",
    "        augment_all = encode_in_batch(model_embed, augments)\n",
    "        \n",
    "        # Augment into context\n",
    "        context_all = np.concatenate([context_all, augment_all], axis=0)\n",
    "        context_ids = np.concatenate([context_ids, augment_ids], axis=0)\n",
    "\n",
    "    top_1, top_5, top_10, mrr_score = evaluate(\n",
    "        question_ids, question_all, context_ids, context_all, status=True\n",
    "    )\n",
    "    return top_1, top_5, top_10, mrr_score"
   ]
  },
  {
   "cell_type": "code",
   "execution_count": 8,
   "metadata": {},
   "outputs": [
    {
     "data": {
      "application/vnd.jupyter.widget-view+json": {
       "model_id": "dfba53755b7c48038fcf33b77175272d",
       "version_major": 2,
       "version_minor": 0
      },
      "text/plain": [
       "  0%|          | 0/15 [00:00<?, ?it/s]"
      ]
     },
     "metadata": {},
     "output_type": "display_data"
    },
    {
     "data": {
      "application/vnd.jupyter.widget-view+json": {
       "model_id": "c07dbb9be7264b879a9142c008d5ac2d",
       "version_major": 2,
       "version_minor": 0
      },
      "text/plain": [
       "  0%|          | 0/133 [00:00<?, ?it/s]"
      ]
     },
     "metadata": {},
     "output_type": "display_data"
    },
    {
     "data": {
      "application/vnd.jupyter.widget-view+json": {
       "model_id": "70ec7ab20fe744109d35f8204108af68",
       "version_major": 2,
       "version_minor": 0
      },
      "text/plain": [
       "  0%|          | 0/133 [00:00<?, ?it/s]"
      ]
     },
     "metadata": {},
     "output_type": "display_data"
    },
    {
     "data": {
      "application/vnd.jupyter.widget-view+json": {
       "model_id": "9a228b1026b64eabaa74589dc7362c8d",
       "version_major": 2,
       "version_minor": 0
      },
      "text/plain": [
       "  0%|          | 0/16980 [00:00<?, ?it/s]"
      ]
     },
     "metadata": {},
     "output_type": "display_data"
    },
    {
     "name": "stdout",
     "output_type": "stream",
     "text": [
      "None: top_1: 0.14776207302709068, top_5: 0.41707891637220257, top_10: 0.5162544169611307, mrr_score: 0.2575784770131067\n"
     ]
    },
    {
     "data": {
      "application/vnd.jupyter.widget-view+json": {
       "model_id": "c6582acc257a4500be79e75d2f41cf9a",
       "version_major": 2,
       "version_minor": 0
      },
      "text/plain": [
       "  0%|          | 0/132 [00:00<?, ?it/s]"
      ]
     },
     "metadata": {},
     "output_type": "display_data"
    },
    {
     "data": {
      "application/vnd.jupyter.widget-view+json": {
       "model_id": "10eebbc439d9497882f8d0a1e60e8437",
       "version_major": 2,
       "version_minor": 0
      },
      "text/plain": [
       "  0%|          | 0/16980 [00:00<?, ?it/s]"
      ]
     },
     "metadata": {},
     "output_type": "display_data"
    },
    {
     "name": "stdout",
     "output_type": "stream",
     "text": [
      "th_aug: top_1: 0.6600117785630153, top_5: 0.8130153121319199, top_10: 0.8510600706713781, mrr_score: 0.7258828547123677\n"
     ]
    },
    {
     "data": {
      "application/vnd.jupyter.widget-view+json": {
       "model_id": "a386fbd65e7b41739b270ad5c5b297f5",
       "version_major": 2,
       "version_minor": 0
      },
      "text/plain": [
       "  0%|          | 0/133 [00:00<?, ?it/s]"
      ]
     },
     "metadata": {},
     "output_type": "display_data"
    },
    {
     "data": {
      "application/vnd.jupyter.widget-view+json": {
       "model_id": "580bb75c8434453d9f335956c794af23",
       "version_major": 2,
       "version_minor": 0
      },
      "text/plain": [
       "  0%|          | 0/16980 [00:00<?, ?it/s]"
      ]
     },
     "metadata": {},
     "output_type": "display_data"
    },
    {
     "name": "stdout",
     "output_type": "stream",
     "text": [
      "th_fasttext_aug: top_1: 0.6051825677267373, top_5: 0.7991166077738516, top_10: 0.8515901060070671, mrr_score: 0.6885397386280884\n"
     ]
    },
    {
     "data": {
      "application/vnd.jupyter.widget-view+json": {
       "model_id": "73ab1e4602404bd28b8a46c490e3cb5c",
       "version_major": 2,
       "version_minor": 0
      },
      "text/plain": [
       "  0%|          | 0/132 [00:00<?, ?it/s]"
      ]
     },
     "metadata": {},
     "output_type": "display_data"
    },
    {
     "data": {
      "application/vnd.jupyter.widget-view+json": {
       "model_id": "0f19566546974c5d9ebe9c48cae832a4",
       "version_major": 2,
       "version_minor": 0
      },
      "text/plain": [
       "  0%|          | 0/16980 [00:00<?, ?it/s]"
      ]
     },
     "metadata": {},
     "output_type": "display_data"
    },
    {
     "name": "stdout",
     "output_type": "stream",
     "text": [
      "th_llm_gec_aug: top_1: 0.6118374558303887, top_5: 0.7822732626619553, top_10: 0.8275029446407538, mrr_score: 0.6848739413315459\n"
     ]
    },
    {
     "data": {
      "application/vnd.jupyter.widget-view+json": {
       "model_id": "e018a89c425448598c7583e0e72f416f",
       "version_major": 2,
       "version_minor": 0
      },
      "text/plain": [
       "  0%|          | 0/133 [00:00<?, ?it/s]"
      ]
     },
     "metadata": {},
     "output_type": "display_data"
    },
    {
     "data": {
      "application/vnd.jupyter.widget-view+json": {
       "model_id": "9cedce57fb574c23870de86148516f47",
       "version_major": 2,
       "version_minor": 0
      },
      "text/plain": [
       "  0%|          | 0/16980 [00:00<?, ?it/s]"
      ]
     },
     "metadata": {},
     "output_type": "display_data"
    },
    {
     "name": "stdout",
     "output_type": "stream",
     "text": [
      "th_llm_paraphrase_aug: top_1: 0.5826855123674912, top_5: 0.765135453474676, top_10: 0.8130742049469964, mrr_score: 0.661460378222754\n"
     ]
    },
    {
     "data": {
      "application/vnd.jupyter.widget-view+json": {
       "model_id": "10e5e5578342469099f7c2d8ee85782b",
       "version_major": 2,
       "version_minor": 0
      },
      "text/plain": [
       "  0%|          | 0/116 [00:00<?, ?it/s]"
      ]
     },
     "metadata": {},
     "output_type": "display_data"
    },
    {
     "data": {
      "application/vnd.jupyter.widget-view+json": {
       "model_id": "ca9ea2f831674520ba75dcdc1e91a38f",
       "version_major": 2,
       "version_minor": 0
      },
      "text/plain": [
       "  0%|          | 0/16980 [00:00<?, ?it/s]"
      ]
     },
     "metadata": {},
     "output_type": "display_data"
    },
    {
     "name": "stdout",
     "output_type": "stream",
     "text": [
      "th_ltw2v_aug: top_1: 0.7305064782096584, top_5: 0.8161955241460542, top_10: 0.8370435806831567, mrr_score: 0.7676370426458822\n"
     ]
    },
    {
     "data": {
      "application/vnd.jupyter.widget-view+json": {
       "model_id": "c418e27d94b542e9994607554100ab32",
       "version_major": 2,
       "version_minor": 0
      },
      "text/plain": [
       "  0%|          | 0/133 [00:00<?, ?it/s]"
      ]
     },
     "metadata": {},
     "output_type": "display_data"
    },
    {
     "data": {
      "application/vnd.jupyter.widget-view+json": {
       "model_id": "881eff3e9be0425ab588f89d8584668d",
       "version_major": 2,
       "version_minor": 0
      },
      "text/plain": [
       "  0%|          | 0/16980 [00:00<?, ?it/s]"
      ]
     },
     "metadata": {},
     "output_type": "display_data"
    },
    {
     "name": "stdout",
     "output_type": "stream",
     "text": [
      "th_qcpg_0.2_aug: top_1: 0.3168433451118963, top_5: 0.5308009422850413, top_10: 0.6075382803297997, mrr_score: 0.4073022884065243\n"
     ]
    },
    {
     "data": {
      "application/vnd.jupyter.widget-view+json": {
       "model_id": "6c13c11f102a40e98185ff32e249f0ef",
       "version_major": 2,
       "version_minor": 0
      },
      "text/plain": [
       "  0%|          | 0/133 [00:00<?, ?it/s]"
      ]
     },
     "metadata": {},
     "output_type": "display_data"
    },
    {
     "data": {
      "application/vnd.jupyter.widget-view+json": {
       "model_id": "5db17f84c20e446d919294851eedb302",
       "version_major": 2,
       "version_minor": 0
      },
      "text/plain": [
       "  0%|          | 0/16980 [00:00<?, ?it/s]"
      ]
     },
     "metadata": {},
     "output_type": "display_data"
    },
    {
     "name": "stdout",
     "output_type": "stream",
     "text": [
      "th_qcpg_0.2_llm_gec_aug: top_1: 0.24935217903415782, top_5: 0.4545936395759717, top_10: 0.5389870435806832, mrr_score: 0.3371229925028485\n"
     ]
    },
    {
     "data": {
      "application/vnd.jupyter.widget-view+json": {
       "model_id": "c6d5f2f468444f36956d3e5722e386af",
       "version_major": 2,
       "version_minor": 0
      },
      "text/plain": [
       "  0%|          | 0/133 [00:00<?, ?it/s]"
      ]
     },
     "metadata": {},
     "output_type": "display_data"
    },
    {
     "data": {
      "application/vnd.jupyter.widget-view+json": {
       "model_id": "65df88e3201b4d32a88f624f522a7e6c",
       "version_major": 2,
       "version_minor": 0
      },
      "text/plain": [
       "  0%|          | 0/16980 [00:00<?, ?it/s]"
      ]
     },
     "metadata": {},
     "output_type": "display_data"
    },
    {
     "name": "stdout",
     "output_type": "stream",
     "text": [
      "th_qcpg_0.5_aug: top_1: 0.3416372202591284, top_5: 0.5544758539458187, top_10: 0.6310365135453475, mrr_score: 0.43222180155925244\n"
     ]
    },
    {
     "data": {
      "application/vnd.jupyter.widget-view+json": {
       "model_id": "d4fbb6c383a149d59792fc5c93fbfab0",
       "version_major": 2,
       "version_minor": 0
      },
      "text/plain": [
       "  0%|          | 0/133 [00:00<?, ?it/s]"
      ]
     },
     "metadata": {},
     "output_type": "display_data"
    },
    {
     "data": {
      "application/vnd.jupyter.widget-view+json": {
       "model_id": "fce44514b1dd4e18b7a1d644eae0d5b1",
       "version_major": 2,
       "version_minor": 0
      },
      "text/plain": [
       "  0%|          | 0/16980 [00:00<?, ?it/s]"
      ]
     },
     "metadata": {},
     "output_type": "display_data"
    },
    {
     "name": "stdout",
     "output_type": "stream",
     "text": [
      "th_qcpg_0.5_llm_gec_aug: top_1: 0.27732626619552414, top_5: 0.485394581861013, top_10: 0.569434628975265, mrr_score: 0.3666872557817753\n"
     ]
    },
    {
     "data": {
      "application/vnd.jupyter.widget-view+json": {
       "model_id": "7335197056b54f9a888b60306afbd0a4",
       "version_major": 2,
       "version_minor": 0
      },
      "text/plain": [
       "  0%|          | 0/133 [00:00<?, ?it/s]"
      ]
     },
     "metadata": {},
     "output_type": "display_data"
    },
    {
     "data": {
      "application/vnd.jupyter.widget-view+json": {
       "model_id": "bbf781ef43714cffb2b9fecb342566de",
       "version_major": 2,
       "version_minor": 0
      },
      "text/plain": [
       "  0%|          | 0/16980 [00:00<?, ?it/s]"
      ]
     },
     "metadata": {},
     "output_type": "display_data"
    },
    {
     "name": "stdout",
     "output_type": "stream",
     "text": [
      "th_qcpg_0.8_aug: top_1: 0.4590106007067138, top_5: 0.6473498233215548, top_10: 0.7065371024734982, mrr_score: 0.5393429711892626\n"
     ]
    },
    {
     "data": {
      "application/vnd.jupyter.widget-view+json": {
       "model_id": "0a7577f20f454b1789c853d7c4b5b75a",
       "version_major": 2,
       "version_minor": 0
      },
      "text/plain": [
       "  0%|          | 0/133 [00:00<?, ?it/s]"
      ]
     },
     "metadata": {},
     "output_type": "display_data"
    },
    {
     "data": {
      "application/vnd.jupyter.widget-view+json": {
       "model_id": "413d827f11df450687b95dde3daeff11",
       "version_major": 2,
       "version_minor": 0
      },
      "text/plain": [
       "  0%|          | 0/16980 [00:00<?, ?it/s]"
      ]
     },
     "metadata": {},
     "output_type": "display_data"
    },
    {
     "name": "stdout",
     "output_type": "stream",
     "text": [
      "th_qcpg_0.8_llm_gec_aug: top_1: 0.43916372202591286, top_5: 0.6398704358068316, top_10: 0.702944640753828, mrr_score: 0.5251955615383174\n"
     ]
    },
    {
     "data": {
      "application/vnd.jupyter.widget-view+json": {
       "model_id": "3ea2a8bf9f68490793f0397576f08181",
       "version_major": 2,
       "version_minor": 0
      },
      "text/plain": [
       "  0%|          | 0/104 [00:00<?, ?it/s]"
      ]
     },
     "metadata": {},
     "output_type": "display_data"
    },
    {
     "data": {
      "application/vnd.jupyter.widget-view+json": {
       "model_id": "c8c34d2ad24a49c487e05567936dd9b1",
       "version_major": 2,
       "version_minor": 0
      },
      "text/plain": [
       "  0%|          | 0/16980 [00:00<?, ?it/s]"
      ]
     },
     "metadata": {},
     "output_type": "display_data"
    },
    {
     "name": "stdout",
     "output_type": "stream",
     "text": [
      "th_thai2fit_aug: top_1: 0.6818021201413428, top_5: 0.7418138987043581, top_10: 0.7599528857479387, mrr_score: 0.7079291930749558\n"
     ]
    },
    {
     "data": {
      "application/vnd.jupyter.widget-view+json": {
       "model_id": "e909944473b54cbb8e0b54943c51c472",
       "version_major": 2,
       "version_minor": 0
      },
      "text/plain": [
       "  0%|          | 0/105 [00:00<?, ?it/s]"
      ]
     },
     "metadata": {},
     "output_type": "display_data"
    },
    {
     "data": {
      "application/vnd.jupyter.widget-view+json": {
       "model_id": "b4eb2812c7814382bde1e5ce7b168de1",
       "version_major": 2,
       "version_minor": 0
      },
      "text/plain": [
       "  0%|          | 0/16980 [00:00<?, ?it/s]"
      ]
     },
     "metadata": {},
     "output_type": "display_data"
    },
    {
     "name": "stdout",
     "output_type": "stream",
     "text": [
      "th_thai2trans_aug: top_1: 0.7710836277974087, top_5: 0.7896348645465253, top_10: 0.7977031802120141, mrr_score: 0.7798150718866277\n"
     ]
    },
    {
     "data": {
      "application/vnd.jupyter.widget-view+json": {
       "model_id": "05391817be89452aa632d7fcdf77be11",
       "version_major": 2,
       "version_minor": 0
      },
      "text/plain": [
       "  0%|          | 0/87 [00:00<?, ?it/s]"
      ]
     },
     "metadata": {},
     "output_type": "display_data"
    },
    {
     "data": {
      "application/vnd.jupyter.widget-view+json": {
       "model_id": "09fb565843754f3cb0a2c25f930917ce",
       "version_major": 2,
       "version_minor": 0
      },
      "text/plain": [
       "  0%|          | 0/16980 [00:00<?, ?it/s]"
      ]
     },
     "metadata": {},
     "output_type": "display_data"
    },
    {
     "name": "stdout",
     "output_type": "stream",
     "text": [
      "th_wordnet_aug: top_1: 0.6121908127208481, top_5: 0.6481743227326267, top_10: 0.6597173144876325, mrr_score: 0.6284836969730977\n"
     ]
    },
    {
     "data": {
      "text/html": [
       "<div>\n",
       "<style scoped>\n",
       "    .dataframe tbody tr th:only-of-type {\n",
       "        vertical-align: middle;\n",
       "    }\n",
       "\n",
       "    .dataframe tbody tr th {\n",
       "        vertical-align: top;\n",
       "    }\n",
       "\n",
       "    .dataframe thead th {\n",
       "        text-align: right;\n",
       "    }\n",
       "</style>\n",
       "<table border=\"1\" class=\"dataframe\">\n",
       "  <thead>\n",
       "    <tr style=\"text-align: right;\">\n",
       "      <th></th>\n",
       "      <th>name</th>\n",
       "      <th>top_1</th>\n",
       "      <th>top_5</th>\n",
       "      <th>top_10</th>\n",
       "      <th>mrr_score</th>\n",
       "    </tr>\n",
       "  </thead>\n",
       "  <tbody>\n",
       "    <tr>\n",
       "      <th>0</th>\n",
       "      <td>None</td>\n",
       "      <td>0.147762</td>\n",
       "      <td>0.417079</td>\n",
       "      <td>0.516254</td>\n",
       "      <td>0.257578</td>\n",
       "    </tr>\n",
       "    <tr>\n",
       "      <th>1</th>\n",
       "      <td>th_aug</td>\n",
       "      <td>0.660012</td>\n",
       "      <td>0.813015</td>\n",
       "      <td>0.851060</td>\n",
       "      <td>0.725883</td>\n",
       "    </tr>\n",
       "    <tr>\n",
       "      <th>2</th>\n",
       "      <td>th_fasttext_aug</td>\n",
       "      <td>0.605183</td>\n",
       "      <td>0.799117</td>\n",
       "      <td>0.851590</td>\n",
       "      <td>0.688540</td>\n",
       "    </tr>\n",
       "    <tr>\n",
       "      <th>3</th>\n",
       "      <td>th_llm_gec_aug</td>\n",
       "      <td>0.611837</td>\n",
       "      <td>0.782273</td>\n",
       "      <td>0.827503</td>\n",
       "      <td>0.684874</td>\n",
       "    </tr>\n",
       "    <tr>\n",
       "      <th>4</th>\n",
       "      <td>th_llm_paraphrase_aug</td>\n",
       "      <td>0.582686</td>\n",
       "      <td>0.765135</td>\n",
       "      <td>0.813074</td>\n",
       "      <td>0.661460</td>\n",
       "    </tr>\n",
       "    <tr>\n",
       "      <th>5</th>\n",
       "      <td>th_ltw2v_aug</td>\n",
       "      <td>0.730506</td>\n",
       "      <td>0.816196</td>\n",
       "      <td>0.837044</td>\n",
       "      <td>0.767637</td>\n",
       "    </tr>\n",
       "    <tr>\n",
       "      <th>6</th>\n",
       "      <td>th_qcpg_0.2_aug</td>\n",
       "      <td>0.316843</td>\n",
       "      <td>0.530801</td>\n",
       "      <td>0.607538</td>\n",
       "      <td>0.407302</td>\n",
       "    </tr>\n",
       "    <tr>\n",
       "      <th>7</th>\n",
       "      <td>th_qcpg_0.2_llm_gec_aug</td>\n",
       "      <td>0.249352</td>\n",
       "      <td>0.454594</td>\n",
       "      <td>0.538987</td>\n",
       "      <td>0.337123</td>\n",
       "    </tr>\n",
       "    <tr>\n",
       "      <th>8</th>\n",
       "      <td>th_qcpg_0.5_aug</td>\n",
       "      <td>0.341637</td>\n",
       "      <td>0.554476</td>\n",
       "      <td>0.631037</td>\n",
       "      <td>0.432222</td>\n",
       "    </tr>\n",
       "    <tr>\n",
       "      <th>9</th>\n",
       "      <td>th_qcpg_0.5_llm_gec_aug</td>\n",
       "      <td>0.277326</td>\n",
       "      <td>0.485395</td>\n",
       "      <td>0.569435</td>\n",
       "      <td>0.366687</td>\n",
       "    </tr>\n",
       "    <tr>\n",
       "      <th>10</th>\n",
       "      <td>th_qcpg_0.8_aug</td>\n",
       "      <td>0.459011</td>\n",
       "      <td>0.647350</td>\n",
       "      <td>0.706537</td>\n",
       "      <td>0.539343</td>\n",
       "    </tr>\n",
       "    <tr>\n",
       "      <th>11</th>\n",
       "      <td>th_qcpg_0.8_llm_gec_aug</td>\n",
       "      <td>0.439164</td>\n",
       "      <td>0.639870</td>\n",
       "      <td>0.702945</td>\n",
       "      <td>0.525196</td>\n",
       "    </tr>\n",
       "    <tr>\n",
       "      <th>12</th>\n",
       "      <td>th_thai2fit_aug</td>\n",
       "      <td>0.681802</td>\n",
       "      <td>0.741814</td>\n",
       "      <td>0.759953</td>\n",
       "      <td>0.707929</td>\n",
       "    </tr>\n",
       "    <tr>\n",
       "      <th>13</th>\n",
       "      <td>th_thai2trans_aug</td>\n",
       "      <td>0.771084</td>\n",
       "      <td>0.789635</td>\n",
       "      <td>0.797703</td>\n",
       "      <td>0.779815</td>\n",
       "    </tr>\n",
       "    <tr>\n",
       "      <th>14</th>\n",
       "      <td>th_wordnet_aug</td>\n",
       "      <td>0.612191</td>\n",
       "      <td>0.648174</td>\n",
       "      <td>0.659717</td>\n",
       "      <td>0.628484</td>\n",
       "    </tr>\n",
       "  </tbody>\n",
       "</table>\n",
       "</div>"
      ],
      "text/plain": [
       "                       name     top_1     top_5    top_10  mrr_score\n",
       "0                      None  0.147762  0.417079  0.516254   0.257578\n",
       "1                    th_aug  0.660012  0.813015  0.851060   0.725883\n",
       "2           th_fasttext_aug  0.605183  0.799117  0.851590   0.688540\n",
       "3            th_llm_gec_aug  0.611837  0.782273  0.827503   0.684874\n",
       "4     th_llm_paraphrase_aug  0.582686  0.765135  0.813074   0.661460\n",
       "5              th_ltw2v_aug  0.730506  0.816196  0.837044   0.767637\n",
       "6           th_qcpg_0.2_aug  0.316843  0.530801  0.607538   0.407302\n",
       "7   th_qcpg_0.2_llm_gec_aug  0.249352  0.454594  0.538987   0.337123\n",
       "8           th_qcpg_0.5_aug  0.341637  0.554476  0.631037   0.432222\n",
       "9   th_qcpg_0.5_llm_gec_aug  0.277326  0.485395  0.569435   0.366687\n",
       "10          th_qcpg_0.8_aug  0.459011  0.647350  0.706537   0.539343\n",
       "11  th_qcpg_0.8_llm_gec_aug  0.439164  0.639870  0.702945   0.525196\n",
       "12          th_thai2fit_aug  0.681802  0.741814  0.759953   0.707929\n",
       "13        th_thai2trans_aug  0.771084  0.789635  0.797703   0.779815\n",
       "14           th_wordnet_aug  0.612191  0.648174  0.659717   0.628484"
      ]
     },
     "execution_count": 8,
     "metadata": {},
     "output_type": "execute_result"
    }
   ],
   "source": [
    "results = []\n",
    "\n",
    "for col in tqdm(all_augment_cols):\n",
    "    top_1, top_5, top_10, mrr_score = benchmark_single(data, aug_col=col)\n",
    "    print(f\"{col}: top_1: {top_1}, top_5: {top_5}, top_10: {top_10}, mrr_score: {mrr_score}\")\n",
    "    results.append({\"name\": col, \"top_1\": top_1, \"top_5\": top_5, \"top_10\": top_10, \"mrr_score\": mrr_score})\n",
    "\n",
    "results = pd.DataFrame(results)\n",
    "results"
   ]
  },
  {
   "cell_type": "code",
   "execution_count": null,
   "metadata": {},
   "outputs": [],
   "source": [
    "results.to_csv(\"results/07_benchmark_reqa.csv\", index=False)"
   ]
  }
 ],
 "metadata": {
  "kernelspec": {
   "display_name": "qgresearch39",
   "language": "python",
   "name": "python3"
  },
  "language_info": {
   "codemirror_mode": {
    "name": "ipython",
    "version": 3
   },
   "file_extension": ".py",
   "mimetype": "text/x-python",
   "name": "python",
   "nbconvert_exporter": "python",
   "pygments_lexer": "ipython3",
   "version": "3.9.16"
  },
  "orig_nbformat": 4
 },
 "nbformat": 4,
 "nbformat_minor": 2
}
