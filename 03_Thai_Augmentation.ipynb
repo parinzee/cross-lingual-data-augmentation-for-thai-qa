{
 "cells": [
  {
   "attachments": {},
   "cell_type": "markdown",
   "metadata": {},
   "source": [
    "# 03 Thai Only Augmentations"
   ]
  },
  {
   "attachments": {},
   "cell_type": "markdown",
   "metadata": {},
   "source": [
    "- Input: `02_backtranslate_english.csv`\n",
    "- Output `03_thai_augmentations.csv`"
   ]
  },
  {
   "cell_type": "code",
   "execution_count": 1,
   "metadata": {},
   "outputs": [
    {
     "name": "stderr",
     "output_type": "stream",
     "text": [
      "[nltk_data] Downloading package omw to /Users/parinzee/nltk_data...\n",
      "[nltk_data]   Package omw is already up-to-date!\n",
      "[nltk_data] Downloading package wordnet to\n",
      "[nltk_data]     /Users/parinzee/nltk_data...\n",
      "[nltk_data]   Package wordnet is already up-to-date!\n",
      "[nltk_data] Downloading package omw-1.4 to\n",
      "[nltk_data]     /Users/parinzee/nltk_data...\n",
      "[nltk_data]   Package omw-1.4 is already up-to-date!\n"
     ]
    }
   ],
   "source": [
    "import gc\n",
    "\n",
    "import nltk\n",
    "import pandas as pd\n",
    "\n",
    "from tqdm.notebook import tqdm\n",
    "from pythainlp.augment import WordNetAug, word2vec, lm\n",
    "nltk.download('omw-1.4');"
   ]
  },
  {
   "attachments": {},
   "cell_type": "markdown",
   "metadata": {},
   "source": [
    "## Load Dataset from Step 1"
   ]
  },
  {
   "cell_type": "code",
   "execution_count": 2,
   "metadata": {},
   "outputs": [
    {
     "data": {
      "text/html": [
       "<div>\n",
       "<style scoped>\n",
       "    .dataframe tbody tr th:only-of-type {\n",
       "        vertical-align: middle;\n",
       "    }\n",
       "\n",
       "    .dataframe tbody tr th {\n",
       "        vertical-align: top;\n",
       "    }\n",
       "\n",
       "    .dataframe thead th {\n",
       "        text-align: right;\n",
       "    }\n",
       "</style>\n",
       "<table border=\"1\" class=\"dataframe\">\n",
       "  <thead>\n",
       "    <tr style=\"text-align: right;\">\n",
       "      <th></th>\n",
       "      <th>question</th>\n",
       "      <th>context</th>\n",
       "      <th>answers</th>\n",
       "      <th>source</th>\n",
       "      <th>id</th>\n",
       "    </tr>\n",
       "  </thead>\n",
       "  <tbody>\n",
       "    <tr>\n",
       "      <th>0</th>\n",
       "      <td>พัทธ์ธีรา ศรุติพงศ์โภคิน เกิดวันที่เท่าไร?</td>\n",
       "      <td>พัทธ์ธีรา ศรุติพงศ์โภคิน (เกิด 3 ธันวาคม พ.ศ. ...</td>\n",
       "      <td>{'text': ['3 ธันวาคม พ.ศ. 2533'], 'answer_star...</td>\n",
       "      <td>iapp</td>\n",
       "      <td>82c589fda5d3007be968f303e04a9ac58953299a64a5be...</td>\n",
       "    </tr>\n",
       "    <tr>\n",
       "      <th>1</th>\n",
       "      <td>พัทธ์ธีรา ศรุติพงศ์โภคิน มีฃื่อเล่นว่าอะไร?</td>\n",
       "      <td>พัทธ์ธีรา ศรุติพงศ์โภคิน (เกิด 3 ธันวาคม พ.ศ. ...</td>\n",
       "      <td>{'text': ['อร'], 'answer_start': [68], 'answer...</td>\n",
       "      <td>iapp</td>\n",
       "      <td>6483e513603bd34b6f23a5fbe9e1c1db194ce4f4365a69...</td>\n",
       "    </tr>\n",
       "    <tr>\n",
       "      <th>2</th>\n",
       "      <td>พัทธ์ธีรา ศรุติพงศ์โภคิน ทำอาชีพอะไร?</td>\n",
       "      <td>พัทธ์ธีรา ศรุติพงศ์โภคิน (เกิด 3 ธันวาคม พ.ศ. ...</td>\n",
       "      <td>{'text': ['นักแสดงหญิงชาวไทย'], 'answer_start'...</td>\n",
       "      <td>iapp</td>\n",
       "      <td>09fc57198420c10d8cd67154a154cca37fdcde53ec894a...</td>\n",
       "    </tr>\n",
       "    <tr>\n",
       "      <th>3</th>\n",
       "      <td>พัทธ์ธีรา ศรุติพงศ์โภคิน จบการศึกษาจากประเทศอะไร?</td>\n",
       "      <td>พัทธ์ธีรา ศรุติพงศ์โภคิน (เกิด 3 ธันวาคม พ.ศ. ...</td>\n",
       "      <td>{'text': ['ประเทศนิวซีแลนด์'], 'answer_start':...</td>\n",
       "      <td>iapp</td>\n",
       "      <td>7b2f336d3dbc29c6fb1edf7f4988f968ed0a1272fe8aff...</td>\n",
       "    </tr>\n",
       "    <tr>\n",
       "      <th>4</th>\n",
       "      <td>บิดาของคลีโอพัตราเป็นใคร?</td>\n",
       "      <td>คลีโอพัตราที่ 7 ฟิโลพาเธอร์ (กรีก: Κλεοπάτρα θ...</td>\n",
       "      <td>{'text': ['ทอเลมีที่ 12 ออเลติส'], 'answer_sta...</td>\n",
       "      <td>iapp</td>\n",
       "      <td>50c66c986cdf19b60f36da1b89137a6ceb4f11aa9ed0e9...</td>\n",
       "    </tr>\n",
       "    <tr>\n",
       "      <th>...</th>\n",
       "      <td>...</td>\n",
       "      <td>...</td>\n",
       "      <td>...</td>\n",
       "      <td>...</td>\n",
       "      <td>...</td>\n",
       "    </tr>\n",
       "    <tr>\n",
       "      <th>16975</th>\n",
       "      <td>หนังสือการ์ตูนชานะ นักรบเนตรอัคคี มีกี่เล่ม?</td>\n",
       "      <td>นิยาย ชานะ นักรบเนตรอัคคี แต่งโดย ยาชิจิโร ทาค...</td>\n",
       "      <td>{'text': ['22', '26'], 'answer_start': [267, 9...</td>\n",
       "      <td>tydiqa</td>\n",
       "      <td>e780cc4812dd88f21ec7f0152905b15588d1a6faab66d2...</td>\n",
       "    </tr>\n",
       "    <tr>\n",
       "      <th>16976</th>\n",
       "      <td>ไบโอช็อก อินฟินิต เปิดตัวครั้งแรกเมื่อไหร่?</td>\n",
       "      <td>ไบโอช็อก อินฟินิต (English: BioShock Infinite)...</td>\n",
       "      <td>{'text': ['26 มีนาคม พ.ศ. 2556', '26 มีนาคม พ....</td>\n",
       "      <td>tydiqa</td>\n",
       "      <td>dd424979403f3909773a832c4d83818e564fe7bfeb4f38...</td>\n",
       "    </tr>\n",
       "    <tr>\n",
       "      <th>16977</th>\n",
       "      <td>ยู ซึง-โฮ เริ่มเข้าวงการบันเทิงเมื่อไหร่?</td>\n",
       "      <td>ยู ซึง-โฮเดบิวต์เมื่อปี 1999 กับผลงานโฆษณาของ ...</td>\n",
       "      <td>{'text': ['ปี 1999', '1999'], 'answer_start': ...</td>\n",
       "      <td>tydiqa</td>\n",
       "      <td>d131cf44b5a08630e822cbf4c33576a434095f6ff4184f...</td>\n",
       "    </tr>\n",
       "    <tr>\n",
       "      <th>16978</th>\n",
       "      <td>นภัทร อินทร์ใจเอื้อมีมารดาชื่อว่าอะไร?</td>\n",
       "      <td>กันเกิดเมื่อวันที่ 23 ตุลาคม พ.ศ. 2533 จังหวัด...</td>\n",
       "      <td>{'text': ['นางวรรณา อินทร์ใจเอื้อ', 'นางวรรณา ...</td>\n",
       "      <td>tydiqa</td>\n",
       "      <td>5e2f4e69eb82918a55969ec99b1c93ae469c264c81c77a...</td>\n",
       "    </tr>\n",
       "    <tr>\n",
       "      <th>16979</th>\n",
       "      <td>หม่อมราชวงศ์สุขุมพันธุ์ บริพัตร เกิดเมื่อไหร่?</td>\n",
       "      <td>รองศาสตราจารย์ หม่อมราชวงศ์สุขุมพันธุ์ บริพัตร...</td>\n",
       "      <td>{'text': ['22 กันยายน 2495', '22 กันยายน 2495'...</td>\n",
       "      <td>tydiqa</td>\n",
       "      <td>78661a10d85fed62553d88c830614dbd2dd0b0aada032e...</td>\n",
       "    </tr>\n",
       "  </tbody>\n",
       "</table>\n",
       "<p>16980 rows × 5 columns</p>\n",
       "</div>"
      ],
      "text/plain": [
       "                                                question   \n",
       "0             พัทธ์ธีรา ศรุติพงศ์โภคิน เกิดวันที่เท่าไร?  \\\n",
       "1            พัทธ์ธีรา ศรุติพงศ์โภคิน มีฃื่อเล่นว่าอะไร?   \n",
       "2                  พัทธ์ธีรา ศรุติพงศ์โภคิน ทำอาชีพอะไร?   \n",
       "3      พัทธ์ธีรา ศรุติพงศ์โภคิน จบการศึกษาจากประเทศอะไร?   \n",
       "4                              บิดาของคลีโอพัตราเป็นใคร?   \n",
       "...                                                  ...   \n",
       "16975       หนังสือการ์ตูนชานะ นักรบเนตรอัคคี มีกี่เล่ม?   \n",
       "16976        ไบโอช็อก อินฟินิต เปิดตัวครั้งแรกเมื่อไหร่?   \n",
       "16977          ยู ซึง-โฮ เริ่มเข้าวงการบันเทิงเมื่อไหร่?   \n",
       "16978             นภัทร อินทร์ใจเอื้อมีมารดาชื่อว่าอะไร?   \n",
       "16979     หม่อมราชวงศ์สุขุมพันธุ์ บริพัตร เกิดเมื่อไหร่?   \n",
       "\n",
       "                                                 context   \n",
       "0      พัทธ์ธีรา ศรุติพงศ์โภคิน (เกิด 3 ธันวาคม พ.ศ. ...  \\\n",
       "1      พัทธ์ธีรา ศรุติพงศ์โภคิน (เกิด 3 ธันวาคม พ.ศ. ...   \n",
       "2      พัทธ์ธีรา ศรุติพงศ์โภคิน (เกิด 3 ธันวาคม พ.ศ. ...   \n",
       "3      พัทธ์ธีรา ศรุติพงศ์โภคิน (เกิด 3 ธันวาคม พ.ศ. ...   \n",
       "4      คลีโอพัตราที่ 7 ฟิโลพาเธอร์ (กรีก: Κλεοπάτρα θ...   \n",
       "...                                                  ...   \n",
       "16975  นิยาย ชานะ นักรบเนตรอัคคี แต่งโดย ยาชิจิโร ทาค...   \n",
       "16976  ไบโอช็อก อินฟินิต (English: BioShock Infinite)...   \n",
       "16977  ยู ซึง-โฮเดบิวต์เมื่อปี 1999 กับผลงานโฆษณาของ ...   \n",
       "16978  กันเกิดเมื่อวันที่ 23 ตุลาคม พ.ศ. 2533 จังหวัด...   \n",
       "16979  รองศาสตราจารย์ หม่อมราชวงศ์สุขุมพันธุ์ บริพัตร...   \n",
       "\n",
       "                                                 answers  source   \n",
       "0      {'text': ['3 ธันวาคม พ.ศ. 2533'], 'answer_star...    iapp  \\\n",
       "1      {'text': ['อร'], 'answer_start': [68], 'answer...    iapp   \n",
       "2      {'text': ['นักแสดงหญิงชาวไทย'], 'answer_start'...    iapp   \n",
       "3      {'text': ['ประเทศนิวซีแลนด์'], 'answer_start':...    iapp   \n",
       "4      {'text': ['ทอเลมีที่ 12 ออเลติส'], 'answer_sta...    iapp   \n",
       "...                                                  ...     ...   \n",
       "16975  {'text': ['22', '26'], 'answer_start': [267, 9...  tydiqa   \n",
       "16976  {'text': ['26 มีนาคม พ.ศ. 2556', '26 มีนาคม พ....  tydiqa   \n",
       "16977  {'text': ['ปี 1999', '1999'], 'answer_start': ...  tydiqa   \n",
       "16978  {'text': ['นางวรรณา อินทร์ใจเอื้อ', 'นางวรรณา ...  tydiqa   \n",
       "16979  {'text': ['22 กันยายน 2495', '22 กันยายน 2495'...  tydiqa   \n",
       "\n",
       "                                                      id  \n",
       "0      82c589fda5d3007be968f303e04a9ac58953299a64a5be...  \n",
       "1      6483e513603bd34b6f23a5fbe9e1c1db194ce4f4365a69...  \n",
       "2      09fc57198420c10d8cd67154a154cca37fdcde53ec894a...  \n",
       "3      7b2f336d3dbc29c6fb1edf7f4988f968ed0a1272fe8aff...  \n",
       "4      50c66c986cdf19b60f36da1b89137a6ceb4f11aa9ed0e9...  \n",
       "...                                                  ...  \n",
       "16975  e780cc4812dd88f21ec7f0152905b15588d1a6faab66d2...  \n",
       "16976  dd424979403f3909773a832c4d83818e564fe7bfeb4f38...  \n",
       "16977  d131cf44b5a08630e822cbf4c33576a434095f6ff4184f...  \n",
       "16978  5e2f4e69eb82918a55969ec99b1c93ae469c264c81c77a...  \n",
       "16979  78661a10d85fed62553d88c830614dbd2dd0b0aada032e...  \n",
       "\n",
       "[16980 rows x 5 columns]"
      ]
     },
     "execution_count": 2,
     "metadata": {},
     "output_type": "execute_result"
    }
   ],
   "source": [
    "dataset = pd.read_csv('data/01_prepare_dataset.csv')\n",
    "dataset"
   ]
  },
  {
   "cell_type": "code",
   "execution_count": 3,
   "metadata": {},
   "outputs": [],
   "source": [
    "def augment(dataset, aug_fnc, col_name):\n",
    "    data = []\n",
    "    for _, row in tqdm(dataset.iterrows(), total=len(dataset)):\n",
    "        augmented = aug_fnc(row['question'])\n",
    "        for sent in augmented:\n",
    "            sent = ''.join(sent)\n",
    "            data.append({\n",
    "                'id': row['id'],\n",
    "                col_name: sent,\n",
    "            })\n",
    "        del augmented\n",
    "\n",
    "    gc.collect()\n",
    "    return pd.DataFrame(data)"
   ]
  },
  {
   "attachments": {},
   "cell_type": "markdown",
   "metadata": {},
   "source": [
    "## WordNetAug"
   ]
  },
  {
   "cell_type": "code",
   "execution_count": 4,
   "metadata": {},
   "outputs": [],
   "source": [
    "wordnet = WordNetAug()"
   ]
  },
  {
   "cell_type": "code",
   "execution_count": 6,
   "metadata": {},
   "outputs": [
    {
     "data": {
      "application/vnd.jupyter.widget-view+json": {
       "model_id": "4fc12c21bf934e57963b8a37c4d7fc1d",
       "version_major": 2,
       "version_minor": 0
      },
      "text/plain": [
       "  0%|          | 0/16980 [00:00<?, ?it/s]"
      ]
     },
     "metadata": {},
     "output_type": "display_data"
    }
   ],
   "source": [
    "wordnet_aug = augment(dataset, wordnet.augment, 'th_wordnet_aug')\n",
    "wordnet_aug"
   ]
  },
  {
   "cell_type": "code",
   "execution_count": null,
   "metadata": {},
   "outputs": [],
   "source": [
    "wordnet_aug.to_csv('data/02_th_wordnet_aug.csv', index=False)"
   ]
  },
  {
   "attachments": {},
   "cell_type": "markdown",
   "metadata": {},
   "source": [
    "## Thai2fitAug"
   ]
  },
  {
   "cell_type": "code",
   "execution_count": 6,
   "metadata": {},
   "outputs": [
    {
     "name": "stdout",
     "output_type": "stream",
     "text": [
      "Corpus: thai2fit_wv\n",
      "- Downloading: thai2fit_wv 0.1\n"
     ]
    },
    {
     "data": {
      "application/vnd.jupyter.widget-view+json": {
       "model_id": "0cf6102163ab425d809eed2aef02dc6b",
       "version_major": 2,
       "version_minor": 0
      },
      "text/plain": [
       "  0%|          | 0/62452646 [00:00<?, ?it/s]"
      ]
     },
     "metadata": {},
     "output_type": "display_data"
    }
   ],
   "source": [
    "thai2fit = word2vec.Thai2fitAug()"
   ]
  },
  {
   "cell_type": "code",
   "execution_count": null,
   "metadata": {},
   "outputs": [],
   "source": [
    "thai2fit_aug = augment(dataset, lambda x: thai2fit.augment(x, n_sent=6, p=0.7), 'th_thai2fit_aug')"
   ]
  },
  {
   "cell_type": "code",
   "execution_count": null,
   "metadata": {},
   "outputs": [],
   "source": [
    "thai2fit_aug.to_csv('data/02_th_thai2fit_aug.csv', index=False)"
   ]
  },
  {
   "attachments": {},
   "cell_type": "markdown",
   "metadata": {},
   "source": [
    "# LTW2VAug"
   ]
  },
  {
   "cell_type": "code",
   "execution_count": 18,
   "metadata": {},
   "outputs": [
    {
     "name": "stdout",
     "output_type": "stream",
     "text": [
      "Corpus: ltw2v\n",
      "- Downloading: ltw2v 0.1\n"
     ]
    },
    {
     "data": {
      "application/vnd.jupyter.widget-view+json": {
       "model_id": "f71fc472b07d4ab683b9e25e18fedb0f",
       "version_major": 2,
       "version_minor": 0
      },
      "text/plain": [
       "  0%|          | 0/1178368364 [00:00<?, ?it/s]"
      ]
     },
     "metadata": {},
     "output_type": "display_data"
    }
   ],
   "source": [
    "ltw2v = word2vec.LTW2VAug()"
   ]
  },
  {
   "cell_type": "code",
   "execution_count": null,
   "metadata": {},
   "outputs": [],
   "source": [
    "ltw2v_aug = augment(dataset, lambda x: ltw2v.augment(x, n_sent=6, p=0.7), 'th_ltw2v_aug')"
   ]
  },
  {
   "cell_type": "code",
   "execution_count": null,
   "metadata": {},
   "outputs": [],
   "source": [
    "ltw2v_aug.to_csv('data/02_th_ltw2v_aug.csv', index=False)"
   ]
  },
  {
   "attachments": {},
   "cell_type": "markdown",
   "metadata": {},
   "source": [
    "## FastTextAug"
   ]
  },
  {
   "attachments": {},
   "cell_type": "markdown",
   "metadata": {},
   "source": [
    "Download model from https://fasttext.cc/docs/en/crawl-vectors.html"
   ]
  },
  {
   "cell_type": "code",
   "execution_count": null,
   "metadata": {},
   "outputs": [],
   "source": [
    "!wget https://dl.fbaipublicfiles.com/fasttext/vectors-crawl/cc.th.300.bin.gz"
   ]
  },
  {
   "cell_type": "code",
   "execution_count": null,
   "metadata": {},
   "outputs": [],
   "source": [
    "fasttext = lm.FastTextAug('cc.th.300.bin.gz')"
   ]
  },
  {
   "cell_type": "code",
   "execution_count": null,
   "metadata": {},
   "outputs": [],
   "source": [
    "# test out first"
   ]
  },
  {
   "cell_type": "code",
   "execution_count": null,
   "metadata": {},
   "outputs": [],
   "source": [
    "fasttext_aug = augment(dataset, lambda x: fasttext.augment(x, n_sent=6, p=0.7), 'th_fasttext_aug')"
   ]
  },
  {
   "attachments": {},
   "cell_type": "markdown",
   "metadata": {},
   "source": [
    "## Thai2Transformers"
   ]
  },
  {
   "cell_type": "code",
   "execution_count": null,
   "metadata": {},
   "outputs": [],
   "source": [
    "thai2transformers = lm.Thai2transformersAug()"
   ]
  },
  {
   "cell_type": "code",
   "execution_count": null,
   "metadata": {},
   "outputs": [],
   "source": [
    "thai2transformers_aug = augment(dataset, lambda x: thai2transformers.augment(x, num_replace_tokens=6), 'th_thai2transformers_aug')"
   ]
  },
  {
   "cell_type": "code",
   "execution_count": null,
   "metadata": {},
   "outputs": [],
   "source": [
    "thai2transformers_aug.to_csv('data/02_th_thai2transformers_aug.csv', index=False)"
   ]
  },
  {
   "attachments": {},
   "cell_type": "markdown",
   "metadata": {},
   "source": [
    "# BPEmbAug"
   ]
  },
  {
   "cell_type": "code",
   "execution_count": 28,
   "metadata": {},
   "outputs": [],
   "source": [
    "from pythainlp.augment.word2vec import bpemb_wv "
   ]
  },
  {
   "cell_type": "code",
   "execution_count": 30,
   "metadata": {},
   "outputs": [
    {
     "name": "stdout",
     "output_type": "stream",
     "text": [
      "downloading https://nlp.h-its.org/bpemb/th/th.wiki.bpe.vs100000.model\n"
     ]
    },
    {
     "name": "stderr",
     "output_type": "stream",
     "text": [
      "100%|██████████| 3210051/3210051 [00:01<00:00, 2566332.97B/s]\n"
     ]
    },
    {
     "name": "stdout",
     "output_type": "stream",
     "text": [
      "downloading https://nlp.h-its.org/bpemb/th/th.wiki.bpe.vs100000.d300.w2v.bin.tar.gz\n"
     ]
    },
    {
     "name": "stderr",
     "output_type": "stream",
     "text": [
      "100%|██████████| 112536302/112536302 [00:32<00:00, 3494093.78B/s]\n"
     ]
    }
   ],
   "source": [
    "bpemb = bpemb_wv.BPEmbAug()"
   ]
  },
  {
   "cell_type": "code",
   "execution_count": null,
   "metadata": {},
   "outputs": [],
   "source": [
    "bpemb_aug = augment(dataset, lambda x: bpemb.augment(x, n_sent=6, p=0.5), 'th_bpemb_aug')"
   ]
  },
  {
   "cell_type": "code",
   "execution_count": null,
   "metadata": {},
   "outputs": [],
   "source": [
    "bpemb_aug.to_csv('data/02_th_bpemb_aug.csv', index=False)"
   ]
  }
 ],
 "metadata": {
  "kernelspec": {
   "display_name": "qgresearch39",
   "language": "python",
   "name": "python3"
  },
  "language_info": {
   "codemirror_mode": {
    "name": "ipython",
    "version": 3
   },
   "file_extension": ".py",
   "mimetype": "text/x-python",
   "name": "python",
   "nbconvert_exporter": "python",
   "pygments_lexer": "ipython3",
   "version": "3.9.15"
  },
  "orig_nbformat": 4
 },
 "nbformat": 4,
 "nbformat_minor": 2
}
