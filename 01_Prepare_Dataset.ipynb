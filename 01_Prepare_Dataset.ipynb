{
 "cells": [
  {
   "attachments": {},
   "cell_type": "markdown",
   "metadata": {},
   "source": [
    "# 01 Pre Augmentation Preparation"
   ]
  },
  {
   "attachments": {},
   "cell_type": "markdown",
   "metadata": {},
   "source": [
    "Before we can start with the augmentation, we need to prepare the dataset. "
   ]
  },
  {
   "cell_type": "code",
   "execution_count": 1,
   "metadata": {},
   "outputs": [],
   "source": [
    "import hashlib\n",
    "import pandas as pd \n",
    "\n",
    "from utils import clean_text\n",
    "\n",
    "from datasets import load_dataset, concatenate_datasets\n",
    "from copy import deepcopy\n",
    "from tqdm import tqdm"
   ]
  },
  {
   "cell_type": "code",
   "execution_count": 2,
   "metadata": {},
   "outputs": [
    {
     "name": "stderr",
     "output_type": "stream",
     "text": [
      "Found cached dataset iapp_wiki_qa_squad (/Users/parinzee/.cache/huggingface/datasets/iapp_wiki_qa_squad/iapp_wiki_qa_squad/1.0.0/c1455d806e5a66ca9ee5c03b4aeaeaef4410afca6263c0bfb440ff1db28e20c3)\n"
     ]
    },
    {
     "data": {
      "application/vnd.jupyter.widget-view+json": {
       "model_id": "f58d38d51e584dce899a10589916a80c",
       "version_major": 2,
       "version_minor": 0
      },
      "text/plain": [
       "  0%|          | 0/3 [00:00<?, ?it/s]"
      ]
     },
     "metadata": {},
     "output_type": "display_data"
    },
    {
     "name": "stderr",
     "output_type": "stream",
     "text": [
      "Found cached dataset thaiqa_squad (/Users/parinzee/.cache/huggingface/datasets/thaiqa_squad/thaiqa_squad/1.0.0/fce14864b511d48464540780f328f4b415746b63f2fd934ad0b06c3eead7787b)\n"
     ]
    },
    {
     "data": {
      "application/vnd.jupyter.widget-view+json": {
       "model_id": "0fb02999b8f243169d5a0cd7b9bd435e",
       "version_major": 2,
       "version_minor": 0
      },
      "text/plain": [
       "  0%|          | 0/2 [00:00<?, ?it/s]"
      ]
     },
     "metadata": {},
     "output_type": "display_data"
    },
    {
     "name": "stderr",
     "output_type": "stream",
     "text": [
      "Found cached dataset xquad (/Users/parinzee/.cache/huggingface/datasets/xquad/xquad.th/1.0.0/39e1ff0497cbbfb79bbff61024031c10872bbd7c4fd8bc250207a965c39d3336)\n"
     ]
    },
    {
     "data": {
      "application/vnd.jupyter.widget-view+json": {
       "model_id": "4d98f9b0c6e34e6793f06a6db5dba183",
       "version_major": 2,
       "version_minor": 0
      },
      "text/plain": [
       "  0%|          | 0/1 [00:00<?, ?it/s]"
      ]
     },
     "metadata": {},
     "output_type": "display_data"
    },
    {
     "name": "stderr",
     "output_type": "stream",
     "text": [
      "Found cached dataset tydiqa-goldp (/Users/parinzee/.cache/huggingface/datasets/khalidalt___tydiqa-goldp/thai/1.1.0/c0ba4613293c9a8e7cdc684809f0b2a520a66f38b23af4af5c09ea55e2b972f0)\n"
     ]
    },
    {
     "data": {
      "application/vnd.jupyter.widget-view+json": {
       "model_id": "834e4f9417fb4a18b8bcfd4d494b9d97",
       "version_major": 2,
       "version_minor": 0
      },
      "text/plain": [
       "  0%|          | 0/2 [00:00<?, ?it/s]"
      ]
     },
     "metadata": {},
     "output_type": "display_data"
    }
   ],
   "source": [
    "iapp    = load_dataset(\"iapp_wiki_qa_squad\")\n",
    "thaiqa  = load_dataset(\"thaiqa_squad\")\n",
    "xquad   = load_dataset(\"xquad\", \"xquad.th\")\n",
    "tydiqa = load_dataset(\"khalidalt/tydiqa-goldp\", \"thai\")"
   ]
  },
  {
   "cell_type": "code",
   "execution_count": 3,
   "metadata": {},
   "outputs": [],
   "source": [
    "# Merge all splits of each dataset\n",
    "def merge_dataset_splits(dataset):\n",
    "    splits = list(dataset.keys())\n",
    "    if len(splits) == 1:\n",
    "        return dataset[splits[0]]\n",
    "    else:\n",
    "        return concatenate_datasets([dataset[split] for split in splits])"
   ]
  },
  {
   "cell_type": "code",
   "execution_count": 4,
   "metadata": {},
   "outputs": [],
   "source": [
    "iapp = merge_dataset_splits(iapp).to_pandas()\n",
    "thaiqa = merge_dataset_splits(thaiqa).to_pandas()\n",
    "xquad = merge_dataset_splits(xquad).to_pandas()\n",
    "tydiqa = merge_dataset_splits(tydiqa).to_pandas()"
   ]
  },
  {
   "attachments": {},
   "cell_type": "markdown",
   "metadata": {},
   "source": [
    "## Reformat the Datasets"
   ]
  },
  {
   "cell_type": "code",
   "execution_count": 5,
   "metadata": {},
   "outputs": [],
   "source": [
    "iapp = iapp[['question', 'context', 'answers']]\n",
    "thaiqa = thaiqa[['question', 'context', 'answers']]\n",
    "xquad = xquad[['question', 'context', 'answers']]\n",
    "tydiqa = tydiqa.rename(columns={'passage_text': 'context', \"question_text\": \"question\"})[['question', 'context', 'answers']]"
   ]
  },
  {
   "cell_type": "code",
   "execution_count": 6,
   "metadata": {},
   "outputs": [],
   "source": [
    "# Datasets require more processing to make them all in the correct format\n",
    "def get_offset_begin_position(cleaned_context, answers_text, answer_begin_positions):\n",
    "    new_answer_begin_positions = []\n",
    "\n",
    "    try:\n",
    "        for answer_text, answer_begin_position in zip(answers_text, answer_begin_positions):\n",
    "            # Find all all instances of the answer in cleaned_context\n",
    "            possible_answer_begin_positions = [i for i in range(len(cleaned_context)) if cleaned_context.startswith(answer_text, i)] \n",
    "\n",
    "            if len(possible_answer_begin_positions) == 1:\n",
    "                new_answer_begin_positions.append(possible_answer_begin_positions[0])\n",
    "            elif len(possible_answer_begin_positions) > 1:\n",
    "                # Find the closest answer to the original answer\n",
    "                closest_answer_begin_position = min(possible_answer_begin_positions, key=lambda x:abs(x-answer_begin_position))\n",
    "                new_answer_begin_positions.append(closest_answer_begin_position)\n",
    "            else:\n",
    "                raise Exception(\"No answer found in context\")\n",
    "    except:\n",
    "        print(\"Error with answer: \", answer_text)\n",
    "        print(\"Error with context: \", cleaned_context)\n",
    "        print(\"Error with answer begin position: \", answer_begin_position)\n",
    "        raise\n",
    "    \n",
    "    return new_answer_begin_positions\n",
    "\n",
    "def process_row(row, answer_text_key, answer_start_key):\n",
    "    # Normalize the text\n",
    "    new_row = deepcopy(row)\n",
    "    new_row[\"context\"] = clean_text(row[\"context\"])\n",
    "    new_row[\"question\"] = clean_text(row[\"question\"], is_question=True)\n",
    "\n",
    "    new_row[\"answers\"] = {}\n",
    "    new_row[\"answers\"][\"text\"] = [clean_text(x) for x in row[\"answers\"][answer_text_key]]\n",
    "\n",
    "    # Reindex the dataset\n",
    "    new_row[\"answers\"][\"answer_start\"] = get_offset_begin_position(new_row[\"context\"], new_row[\"answers\"][\"text\"], row[\"answers\"][answer_start_key])\n",
    "    new_row[\"answers\"][\"answer_end\"] = [x + len(y) for x, y in zip(new_row[\"answers\"][\"answer_start\"], new_row[\"answers\"][\"text\"])]\n",
    "\n",
    "    return new_row\n",
    "\n",
    "def sanity_check(datasets):\n",
    "    # Match keys\n",
    "    for dataset in tqdm(datasets):\n",
    "        assert list(dataset.columns) == list(datasets[0].columns)\n",
    "        assert dataset['answers'][0].keys() == datasets[0]['answers'][0].keys()\n",
    "    \n",
    "    print(\"All Keys Matched...\")\n",
    "\n",
    "    # Check theortical answers vs index\n",
    "    for dataset in datasets:\n",
    "        for _, row in tqdm(list(dataset.iterrows())):\n",
    "            for text, begin, end in zip(row[\"answers\"]['text'], row[\"answers\"]['answer_start'], row[\"answers\"]['answer_end']):\n",
    "                assert text == row['context'][begin:end], f\"Theoretical Answer: {text} | Indexed: {row['context'][begin:end]} | Context: {row['context']}\"\n",
    "    \n",
    "    print(\"Theortical Answers Matched...\")\n",
    "\n",
    "    # Assert no empty columns\n",
    "    for dataset in tqdm(datasets):\n",
    "        assert not dataset.isnull().values.any()\n",
    "    \n",
    "    print(\"No empty columns...\")"
   ]
  },
  {
   "attachments": {},
   "cell_type": "markdown",
   "metadata": {},
   "source": [
    "### Special Scenario for TyDiQA"
   ]
  },
  {
   "attachments": {},
   "cell_type": "markdown",
   "metadata": {},
   "source": [
    "Some of the following contexts (displayed below and discovered through cleaning & experimentation), have invalid answers—  thus we need to strip them out.\n",
    "- 480\n",
    "- 686\n",
    "- 953\n",
    "- 2057\n",
    "- 3177"
   ]
  },
  {
   "cell_type": "code",
   "execution_count": 7,
   "metadata": {},
   "outputs": [
    {
     "data": {
      "text/html": [
       "<div>\n",
       "<style scoped>\n",
       "    .dataframe tbody tr th:only-of-type {\n",
       "        vertical-align: middle;\n",
       "    }\n",
       "\n",
       "    .dataframe tbody tr th {\n",
       "        vertical-align: top;\n",
       "    }\n",
       "\n",
       "    .dataframe thead th {\n",
       "        text-align: right;\n",
       "    }\n",
       "</style>\n",
       "<table border=\"1\" class=\"dataframe\">\n",
       "  <thead>\n",
       "    <tr style=\"text-align: right;\">\n",
       "      <th></th>\n",
       "      <th>question</th>\n",
       "      <th>context</th>\n",
       "      <th>answers</th>\n",
       "    </tr>\n",
       "  </thead>\n",
       "  <tbody>\n",
       "    <tr>\n",
       "      <th>480</th>\n",
       "      <td>เจ.เค. โรว์ลิ่ง เกิดวันที่เท่าไหร่?</td>\n",
       "      <td>โจแอนน์ \"โจ\" โรว์ลิง (English: Joanne \"Jo\" Row...</td>\n",
       "      <td>{'text': [':[1509,1531,3,3]}'&gt;โ'], 'start_byte...</td>\n",
       "    </tr>\n",
       "    <tr>\n",
       "      <th>953</th>\n",
       "      <td>เจ. เค. โรว์ลิง มีผลงานเขียนเรื่องใดที่เป็นที่...</td>\n",
       "      <td>โจแอนน์ \"โจ\" โรว์ลิง (English: Joanne \"Jo\" Row...</td>\n",
       "      <td>{'text': ['กกันดีในฐานะผู้ปร'], 'start_byte': ...</td>\n",
       "    </tr>\n",
       "    <tr>\n",
       "      <th>2057</th>\n",
       "      <td>เจ. เค. โรว์ลิง คือใคร?</td>\n",
       "      <td>โจแอนน์ \"โจ\" โรว์ลิง (English: Joanne \"Jo\" Row...</td>\n",
       "      <td>{'text': ['ัลเบรธ (เกิด 31 กรกฎาคม'], 'start_b...</td>\n",
       "    </tr>\n",
       "    <tr>\n",
       "      <th>3177</th>\n",
       "      <td>เจ. เค. โรว์ลิ่ง เกิดวันที่เท่าไหร่?</td>\n",
       "      <td>โจแอนน์ \"โจ\" โรว์ลิง (English: Joanne \"Jo\" Row...</td>\n",
       "      <td>{'text': [':[1509,1531,3,3]}'&gt;โ'], 'start_byte...</td>\n",
       "    </tr>\n",
       "  </tbody>\n",
       "</table>\n",
       "</div>"
      ],
      "text/plain": [
       "                                               question   \n",
       "480                 เจ.เค. โรว์ลิ่ง เกิดวันที่เท่าไหร่?  \\\n",
       "953   เจ. เค. โรว์ลิง มีผลงานเขียนเรื่องใดที่เป็นที่...   \n",
       "2057                            เจ. เค. โรว์ลิง คือใคร?   \n",
       "3177               เจ. เค. โรว์ลิ่ง เกิดวันที่เท่าไหร่?   \n",
       "\n",
       "                                                context   \n",
       "480   โจแอนน์ \"โจ\" โรว์ลิง (English: Joanne \"Jo\" Row...  \\\n",
       "953   โจแอนน์ \"โจ\" โรว์ลิง (English: Joanne \"Jo\" Row...   \n",
       "2057  โจแอนน์ \"โจ\" โรว์ลิง (English: Joanne \"Jo\" Row...   \n",
       "3177  โจแอนน์ \"โจ\" โรว์ลิง (English: Joanne \"Jo\" Row...   \n",
       "\n",
       "                                                answers  \n",
       "480   {'text': [':[1509,1531,3,3]}'>โ'], 'start_byte...  \n",
       "953   {'text': ['กกันดีในฐานะผู้ปร'], 'start_byte': ...  \n",
       "2057  {'text': ['ัลเบรธ (เกิด 31 กรกฎาคม'], 'start_b...  \n",
       "3177  {'text': [':[1509,1531,3,3]}'>โ'], 'start_byte...  "
      ]
     },
     "execution_count": 7,
     "metadata": {},
     "output_type": "execute_result"
    }
   ],
   "source": [
    "tydiqa[tydiqa[\"context\"].str.startswith('โจแอนน์ \"โจ\"')]"
   ]
  },
  {
   "cell_type": "code",
   "execution_count": 8,
   "metadata": {},
   "outputs": [
    {
     "data": {
      "text/plain": [
       "'โจแอนน์ \"โจ\" โรว์ลิง (English: Joanne \"Jo\" Rowling, OBE FRSL[1]) หรือนามปากกา เจ. เค. โรว์ลิง[2] และ<b data-parsoid=\\'{\"dsr\":[1509,1531,3,3]}\\'>โรเบิร์ต กัลเบรธ (เกิด 31 กรกฎาคม ค.ศ. 1965)[3] เป็นนักเขียนนวนิยายชาวอังกฤษ ผู้เป็นที่รู้จักกันดีในฐานะผู้ประพันธ์วรรณกรรมแฟนตาซีชุด แฮร์รี่ พอตเตอร์ ซึ่งได้รับความความสนใจจากทั่วโลก ได้รับรางวัลมากมาย และมียอดขายกว่า 500 ล้านเล่ม[4] และยังเป็นหนังสือชุดที่ขายดีที่สุดในประวัติศาสตร์[5] ด้านภาพยนตร์ชุดแฮร์รี่ พอตเตอร์ที่ดัดแปลงมาจากหนังสือก็เป็นภาพยนตร์ชุดที่ทำรายได้มากที่สุดเป็นอันดับสองในประวัติศาสตร์[6] โรว์ลิงอนุมัติบทภาพยนตร์ทุกภาค[7] และตลอดจนควบคุมงานฝ่ายสร้างสรรค์ภาพยนตร์ภาคสุดท้ายในฐานะผู้อำนวยการสร้าง[8]'"
      ]
     },
     "execution_count": 8,
     "metadata": {},
     "output_type": "execute_result"
    }
   ],
   "source": [
    "tydiqa[tydiqa[\"context\"].str.startswith('โจแอนน์ \"โจ\"')].iloc[0][\"context\"]"
   ]
  },
  {
   "cell_type": "code",
   "execution_count": 9,
   "metadata": {},
   "outputs": [
    {
     "data": {
      "text/plain": [
       "'เจ. เค. โรว์ลิง มีผลงานเขียนเรื่องใดที่เป็นที่รู้จักมากที่สุด ?'"
      ]
     },
     "execution_count": 9,
     "metadata": {},
     "output_type": "execute_result"
    }
   ],
   "source": [
    "tydiqa[tydiqa[\"context\"].str.startswith('โจแอนน์ \"โจ\"')].iloc[1][\"question\"]"
   ]
  },
  {
   "cell_type": "code",
   "execution_count": 10,
   "metadata": {},
   "outputs": [
    {
     "data": {
      "text/plain": [
       "'นนวนิยายชาวอังกฤษ ผู้เป็นที่รู้จักกันดีในฐานะผู้ประพันธ์วรรณกรรมแฟนตาซีชุด แฮร์รี่ พอตเตอร์ ซึ่งได้รับความความสนใจจากทั่วโลก ได้รับรางวัลมากมาย และมียอดขายกว่า 500 ล้านเล่ม และยังเป็นหนังสือชุดที่ขายดีที่สุดในประวัติศาสตร์ ด้านภาพยนตร์ชุดแฮร์รี่ พอตเตอร์ที่ดัดแปลงมาจากหนังสือก็เป็นภาพยนตร์ชุดที่ทำรายได้มากที่สุดเป็นอันดับสองในประวัติศาสตร์ โรว์ลิงอนุมัติบทภาพยนตร์ทุกภาค และตลอดจนควบคุมงานฝ่ายสร้างสรรค์ภาพยนตร์ภาคสุดท้ายในฐานะผู้อำนวยการสร้าง'"
      ]
     },
     "execution_count": 10,
     "metadata": {},
     "output_type": "execute_result"
    }
   ],
   "source": [
    "clean_text(tydiqa[tydiqa[\"context\"].str.startswith('โจแอนน์ \"โจ\"')].iloc[0][\"context\"])[150:] # This answer does not make sense at all"
   ]
  },
  {
   "cell_type": "code",
   "execution_count": 11,
   "metadata": {},
   "outputs": [
    {
     "data": {
      "text/html": [
       "<div>\n",
       "<style scoped>\n",
       "    .dataframe tbody tr th:only-of-type {\n",
       "        vertical-align: middle;\n",
       "    }\n",
       "\n",
       "    .dataframe tbody tr th {\n",
       "        vertical-align: top;\n",
       "    }\n",
       "\n",
       "    .dataframe thead th {\n",
       "        text-align: right;\n",
       "    }\n",
       "</style>\n",
       "<table border=\"1\" class=\"dataframe\">\n",
       "  <thead>\n",
       "    <tr style=\"text-align: right;\">\n",
       "      <th></th>\n",
       "      <th>question</th>\n",
       "      <th>context</th>\n",
       "      <th>answers</th>\n",
       "    </tr>\n",
       "  </thead>\n",
       "  <tbody>\n",
       "    <tr>\n",
       "      <th>686</th>\n",
       "      <td>เจ้าชายสิทธัตถะ เกิดที่ไหน?</td>\n",
       "      <td>พระสิทธัตถพุทธเจ้า มีพระนามเดิมว่า&lt;b data-pars...</td>\n",
       "      <td>{'text': ['id='{\"dsr\":[987'], 'start_byte': [2...</td>\n",
       "    </tr>\n",
       "  </tbody>\n",
       "</table>\n",
       "</div>"
      ],
      "text/plain": [
       "                        question   \n",
       "686  เจ้าชายสิทธัตถะ เกิดที่ไหน?  \\\n",
       "\n",
       "                                               context   \n",
       "686  พระสิทธัตถพุทธเจ้า มีพระนามเดิมว่า<b data-pars...  \\\n",
       "\n",
       "                                               answers  \n",
       "686  {'text': ['id='{\"dsr\":[987'], 'start_byte': [2...  "
      ]
     },
     "execution_count": 11,
     "metadata": {},
     "output_type": "execute_result"
    }
   ],
   "source": [
    "tydiqa[tydiqa[\"context\"].str.startswith(\"พระสิทธัตถพุทธเจ้า\")] # Answer is incorrectly formatted"
   ]
  },
  {
   "attachments": {},
   "cell_type": "markdown",
   "metadata": {},
   "source": [
    "#### Find all invalid answers"
   ]
  },
  {
   "cell_type": "code",
   "execution_count": 12,
   "metadata": {},
   "outputs": [
    {
     "data": {
      "text/html": [
       "<div>\n",
       "<style scoped>\n",
       "    .dataframe tbody tr th:only-of-type {\n",
       "        vertical-align: middle;\n",
       "    }\n",
       "\n",
       "    .dataframe tbody tr th {\n",
       "        vertical-align: top;\n",
       "    }\n",
       "\n",
       "    .dataframe thead th {\n",
       "        text-align: right;\n",
       "    }\n",
       "</style>\n",
       "<table border=\"1\" class=\"dataframe\">\n",
       "  <thead>\n",
       "    <tr style=\"text-align: right;\">\n",
       "      <th></th>\n",
       "      <th>question</th>\n",
       "      <th>context</th>\n",
       "      <th>answers</th>\n",
       "    </tr>\n",
       "  </thead>\n",
       "  <tbody>\n",
       "    <tr>\n",
       "      <th>480</th>\n",
       "      <td>เจ.เค. โรว์ลิ่ง เกิดวันที่เท่าไหร่?</td>\n",
       "      <td>โจแอนน์ \"โจ\" โรว์ลิง (English: Joanne \"Jo\" Row...</td>\n",
       "      <td>{'text': [':[1509,1531,3,3]}'&gt;โ'], 'start_byte...</td>\n",
       "    </tr>\n",
       "    <tr>\n",
       "      <th>777</th>\n",
       "      <td>เรือหลวงจักรีนฤเบศร เริ่มสร้างเมื่อไหร่?</td>\n",
       "      <td>เรือหลวง&lt;i data-parsoid='{\"dsr\":[5558,5573,2,2...</td>\n",
       "      <td>{'text': ['573,2,2]}'&gt;จักรี'], 'start_byte': [...</td>\n",
       "    </tr>\n",
       "    <tr>\n",
       "      <th>1766</th>\n",
       "      <td>กรมพระราชวังบวรสถานมงคล คืออะไร?</td>\n",
       "      <td>\\nกรมพระราชวังบวรสถานมงคล แต่เรียกกันเป็นสามัญ...</td>\n",
       "      <td>{'text': ['oid='{\"dsr\":[764,777,3,3]}'&gt;วังหน้า...</td>\n",
       "    </tr>\n",
       "    <tr>\n",
       "      <th>2063</th>\n",
       "      <td>เซอร์ วิลเลียม วอลเลซ  เกิดที่ไหน ?</td>\n",
       "      <td>สถานที่เกิดและวันเกิดของ&lt;b data-parsoid='{\"dsr...</td>\n",
       "      <td>{'text': ['}'&gt;เซอร์'], 'start_byte': [111], 'l...</td>\n",
       "    </tr>\n",
       "    <tr>\n",
       "      <th>2124</th>\n",
       "      <td>อัศวินเทมพลาร์ คืออะไร?</td>\n",
       "      <td>ทหารผู้ยากแห่งพระคริสต์และพระวิหารแห่งโซโลมอน ...</td>\n",
       "      <td>{'text': ['dsr\":[1812,1833,3,3]}'&gt;คณะแห่งพระวิ...</td>\n",
       "    </tr>\n",
       "    <tr>\n",
       "      <th>3177</th>\n",
       "      <td>เจ. เค. โรว์ลิ่ง เกิดวันที่เท่าไหร่?</td>\n",
       "      <td>โจแอนน์ \"โจ\" โรว์ลิง (English: Joanne \"Jo\" Row...</td>\n",
       "      <td>{'text': [':[1509,1531,3,3]}'&gt;โ'], 'start_byte...</td>\n",
       "    </tr>\n",
       "    <tr>\n",
       "      <th>4015</th>\n",
       "      <td>เสรีภาพ คืออะไร ?</td>\n",
       "      <td>เสรีภาพ, อิสรภาพ หรือ&lt;b data-parsoid='{\"dsr\":[...</td>\n",
       "      <td>{'text': ['60,3,3]}'&gt;เสร', '0,3,3]}'&gt;เสร', '0,...</td>\n",
       "    </tr>\n",
       "    <tr>\n",
       "      <th>4132</th>\n",
       "      <td>งานวิจัย คืออะไร ?</td>\n",
       "      <td>การวิจัย (English: research) หมายถึงการกระทำขอ...</td>\n",
       "      <td>{'text': ['การกระทำของมนุษย์เพื่อค้นหาความจริง...</td>\n",
       "    </tr>\n",
       "    <tr>\n",
       "      <th>4201</th>\n",
       "      <td>ราษฎรเรียกสมเด็จพระเจ้าอุทุมพร ว่าอะไร?</td>\n",
       "      <td>สมเด็จพระเจ้าอุทุมพร มีพระนามเดิมว่า&lt;b data-pa...</td>\n",
       "      <td>{'text': ['7,2597,3,3]}'&gt;เจ้', '7,2597,3,3]}'&gt;...</td>\n",
       "    </tr>\n",
       "    <tr>\n",
       "      <th>4360</th>\n",
       "      <td>คุณหญิงกนิษฐา วิเชียรเจริญ เกิดเมื่อไหร่?</td>\n",
       "      <td>\\n\\n\\nคุณหญิง&lt;b data-parsoid='{\"dsr\":[50,75,3,...</td>\n",
       "      <td>{'text': ['r\":[50,75,3,3]}'&gt;กนิษฐ', 'r\":[50,75...</td>\n",
       "    </tr>\n",
       "    <tr>\n",
       "      <th>4408</th>\n",
       "      <td>ทัศนมิติ คืออะไร ?</td>\n",
       "      <td>ทัศนมิติ[1] (English: perspective) หรือทับศัพท...</td>\n",
       "      <td>{'text': [''{\"dsr\":[211,229,3,3]}'&gt;เพอร์สเปกที...</td>\n",
       "    </tr>\n",
       "  </tbody>\n",
       "</table>\n",
       "</div>"
      ],
      "text/plain": [
       "                                       question   \n",
       "480         เจ.เค. โรว์ลิ่ง เกิดวันที่เท่าไหร่?  \\\n",
       "777    เรือหลวงจักรีนฤเบศร เริ่มสร้างเมื่อไหร่?   \n",
       "1766           กรมพระราชวังบวรสถานมงคล คืออะไร?   \n",
       "2063        เซอร์ วิลเลียม วอลเลซ  เกิดที่ไหน ?   \n",
       "2124                    อัศวินเทมพลาร์ คืออะไร?   \n",
       "3177       เจ. เค. โรว์ลิ่ง เกิดวันที่เท่าไหร่?   \n",
       "4015                          เสรีภาพ คืออะไร ?   \n",
       "4132                         งานวิจัย คืออะไร ?   \n",
       "4201    ราษฎรเรียกสมเด็จพระเจ้าอุทุมพร ว่าอะไร?   \n",
       "4360  คุณหญิงกนิษฐา วิเชียรเจริญ เกิดเมื่อไหร่?   \n",
       "4408                         ทัศนมิติ คืออะไร ?   \n",
       "\n",
       "                                                context   \n",
       "480   โจแอนน์ \"โจ\" โรว์ลิง (English: Joanne \"Jo\" Row...  \\\n",
       "777   เรือหลวง<i data-parsoid='{\"dsr\":[5558,5573,2,2...   \n",
       "1766  \\nกรมพระราชวังบวรสถานมงคล แต่เรียกกันเป็นสามัญ...   \n",
       "2063  สถานที่เกิดและวันเกิดของ<b data-parsoid='{\"dsr...   \n",
       "2124  ทหารผู้ยากแห่งพระคริสต์และพระวิหารแห่งโซโลมอน ...   \n",
       "3177  โจแอนน์ \"โจ\" โรว์ลิง (English: Joanne \"Jo\" Row...   \n",
       "4015  เสรีภาพ, อิสรภาพ หรือ<b data-parsoid='{\"dsr\":[...   \n",
       "4132  การวิจัย (English: research) หมายถึงการกระทำขอ...   \n",
       "4201  สมเด็จพระเจ้าอุทุมพร มีพระนามเดิมว่า<b data-pa...   \n",
       "4360  \\n\\n\\nคุณหญิง<b data-parsoid='{\"dsr\":[50,75,3,...   \n",
       "4408  ทัศนมิติ[1] (English: perspective) หรือทับศัพท...   \n",
       "\n",
       "                                                answers  \n",
       "480   {'text': [':[1509,1531,3,3]}'>โ'], 'start_byte...  \n",
       "777   {'text': ['573,2,2]}'>จักรี'], 'start_byte': [...  \n",
       "1766  {'text': ['oid='{\"dsr\":[764,777,3,3]}'>วังหน้า...  \n",
       "2063  {'text': ['}'>เซอร์'], 'start_byte': [111], 'l...  \n",
       "2124  {'text': ['dsr\":[1812,1833,3,3]}'>คณะแห่งพระวิ...  \n",
       "3177  {'text': [':[1509,1531,3,3]}'>โ'], 'start_byte...  \n",
       "4015  {'text': ['60,3,3]}'>เสร', '0,3,3]}'>เสร', '0,...  \n",
       "4132  {'text': ['การกระทำของมนุษย์เพื่อค้นหาความจริง...  \n",
       "4201  {'text': ['7,2597,3,3]}'>เจ้', '7,2597,3,3]}'>...  \n",
       "4360  {'text': ['r\":[50,75,3,3]}'>กนิษฐ', 'r\":[50,75...  \n",
       "4408  {'text': [''{\"dsr\":[211,229,3,3]}'>เพอร์สเปกที...  "
      ]
     },
     "execution_count": 12,
     "metadata": {},
     "output_type": "execute_result"
    }
   ],
   "source": [
    "tydiqa[tydiqa[\"answers\"].apply(lambda x: any([\"}'>\" in y for y in x[\"text\"]]))]"
   ]
  },
  {
   "cell_type": "code",
   "execution_count": 13,
   "metadata": {},
   "outputs": [
    {
     "data": {
      "text/html": [
       "<div>\n",
       "<style scoped>\n",
       "    .dataframe tbody tr th:only-of-type {\n",
       "        vertical-align: middle;\n",
       "    }\n",
       "\n",
       "    .dataframe tbody tr th {\n",
       "        vertical-align: top;\n",
       "    }\n",
       "\n",
       "    .dataframe thead th {\n",
       "        text-align: right;\n",
       "    }\n",
       "</style>\n",
       "<table border=\"1\" class=\"dataframe\">\n",
       "  <thead>\n",
       "    <tr style=\"text-align: right;\">\n",
       "      <th></th>\n",
       "      <th>question</th>\n",
       "      <th>context</th>\n",
       "      <th>answers</th>\n",
       "    </tr>\n",
       "  </thead>\n",
       "  <tbody>\n",
       "    <tr>\n",
       "      <th>25</th>\n",
       "      <td>ค.ศ. 1951 ใครเป็นนายกรัฐมนตรีของอังกฤษ ?</td>\n",
       "      <td>เซอร์&lt;b data-parsoid='{\"dsr\":[2047,2089,3,3]}'...</td>\n",
       "      <td>{'text': ['เซอร์&lt;b data-parsoid='{\"dsr\":[2047,...</td>\n",
       "    </tr>\n",
       "    <tr>\n",
       "      <th>480</th>\n",
       "      <td>เจ.เค. โรว์ลิ่ง เกิดวันที่เท่าไหร่?</td>\n",
       "      <td>โจแอนน์ \"โจ\" โรว์ลิง (English: Joanne \"Jo\" Row...</td>\n",
       "      <td>{'text': [':[1509,1531,3,3]}'&gt;โ'], 'start_byte...</td>\n",
       "    </tr>\n",
       "    <tr>\n",
       "      <th>686</th>\n",
       "      <td>เจ้าชายสิทธัตถะ เกิดที่ไหน?</td>\n",
       "      <td>พระสิทธัตถพุทธเจ้า มีพระนามเดิมว่า&lt;b data-pars...</td>\n",
       "      <td>{'text': ['id='{\"dsr\":[987'], 'start_byte': [2...</td>\n",
       "    </tr>\n",
       "    <tr>\n",
       "      <th>883</th>\n",
       "      <td>หลังคาเขียวที่เชื่อว่าเป็นสวนพฤกษศาสตร์หลังคาเ...</td>\n",
       "      <td>หลังคาเขียวที่เชื่อว่าเป็นสวนพฤกษศาสตร์หลังคาเ...</td>\n",
       "      <td>{'text': ['ออกัสเตนบอร์ก  แถบชานเมือง&lt;i data-p...</td>\n",
       "    </tr>\n",
       "    <tr>\n",
       "      <th>1354</th>\n",
       "      <td>ศาสดาของศาสนาฮินดูคือใคร?</td>\n",
       "      <td>\\nศาสนาฮินดู (English: Hinduism) หรือ สนาตนธรร...</td>\n",
       "      <td>{'text': ['dsr\":[257,281'], 'start_byte': [332...</td>\n",
       "    </tr>\n",
       "    <tr>\n",
       "      <th>1766</th>\n",
       "      <td>กรมพระราชวังบวรสถานมงคล คืออะไร?</td>\n",
       "      <td>\\nกรมพระราชวังบวรสถานมงคล แต่เรียกกันเป็นสามัญ...</td>\n",
       "      <td>{'text': ['oid='{\"dsr\":[764,777,3,3]}'&gt;วังหน้า...</td>\n",
       "    </tr>\n",
       "    <tr>\n",
       "      <th>2124</th>\n",
       "      <td>อัศวินเทมพลาร์ คืออะไร?</td>\n",
       "      <td>ทหารผู้ยากแห่งพระคริสต์และพระวิหารแห่งโซโลมอน ...</td>\n",
       "      <td>{'text': ['dsr\":[1812,1833,3,3]}'&gt;คณะแห่งพระวิ...</td>\n",
       "    </tr>\n",
       "    <tr>\n",
       "      <th>2564</th>\n",
       "      <td>ศาสดาของ ศาสนาพราหมณ์-ฮินดู คือใคร?</td>\n",
       "      <td>\\nศาสนาฮินดู (English: Hinduism) หรือ สนาตนธรร...</td>\n",
       "      <td>{'text': ['dsr\":[257,281'], 'start_byte': [332...</td>\n",
       "    </tr>\n",
       "    <tr>\n",
       "      <th>3177</th>\n",
       "      <td>เจ. เค. โรว์ลิ่ง เกิดวันที่เท่าไหร่?</td>\n",
       "      <td>โจแอนน์ \"โจ\" โรว์ลิง (English: Joanne \"Jo\" Row...</td>\n",
       "      <td>{'text': [':[1509,1531,3,3]}'&gt;โ'], 'start_byte...</td>\n",
       "    </tr>\n",
       "    <tr>\n",
       "      <th>3957</th>\n",
       "      <td>วอยซ์ ทีวี ดำเนินการโดยบริษัทใด?</td>\n",
       "      <td>บริษัท วอยซ์ ทีวี จำกัด จดทะเบียนจัดตั้งขึ้น เ...</td>\n",
       "      <td>{'text': ['data-parsoid='{\"dsr\":[4218,42', 'ั้...</td>\n",
       "    </tr>\n",
       "    <tr>\n",
       "      <th>4132</th>\n",
       "      <td>งานวิจัย คืออะไร ?</td>\n",
       "      <td>การวิจัย (English: research) หมายถึงการกระทำขอ...</td>\n",
       "      <td>{'text': ['การกระทำของมนุษย์เพื่อค้นหาความจริง...</td>\n",
       "    </tr>\n",
       "    <tr>\n",
       "      <th>4360</th>\n",
       "      <td>คุณหญิงกนิษฐา วิเชียรเจริญ เกิดเมื่อไหร่?</td>\n",
       "      <td>\\n\\n\\nคุณหญิง&lt;b data-parsoid='{\"dsr\":[50,75,3,...</td>\n",
       "      <td>{'text': ['r\":[50,75,3,3]}'&gt;กนิษฐ', 'r\":[50,75...</td>\n",
       "    </tr>\n",
       "    <tr>\n",
       "      <th>4408</th>\n",
       "      <td>ทัศนมิติ คืออะไร ?</td>\n",
       "      <td>ทัศนมิติ[1] (English: perspective) หรือทับศัพท...</td>\n",
       "      <td>{'text': [''{\"dsr\":[211,229,3,3]}'&gt;เพอร์สเปกที...</td>\n",
       "    </tr>\n",
       "  </tbody>\n",
       "</table>\n",
       "</div>"
      ],
      "text/plain": [
       "                                               question   \n",
       "25             ค.ศ. 1951 ใครเป็นนายกรัฐมนตรีของอังกฤษ ?  \\\n",
       "480                 เจ.เค. โรว์ลิ่ง เกิดวันที่เท่าไหร่?   \n",
       "686                         เจ้าชายสิทธัตถะ เกิดที่ไหน?   \n",
       "883   หลังคาเขียวที่เชื่อว่าเป็นสวนพฤกษศาสตร์หลังคาเ...   \n",
       "1354                          ศาสดาของศาสนาฮินดูคือใคร?   \n",
       "1766                   กรมพระราชวังบวรสถานมงคล คืออะไร?   \n",
       "2124                            อัศวินเทมพลาร์ คืออะไร?   \n",
       "2564                ศาสดาของ ศาสนาพราหมณ์-ฮินดู คือใคร?   \n",
       "3177               เจ. เค. โรว์ลิ่ง เกิดวันที่เท่าไหร่?   \n",
       "3957                   วอยซ์ ทีวี ดำเนินการโดยบริษัทใด?   \n",
       "4132                                 งานวิจัย คืออะไร ?   \n",
       "4360          คุณหญิงกนิษฐา วิเชียรเจริญ เกิดเมื่อไหร่?   \n",
       "4408                                 ทัศนมิติ คืออะไร ?   \n",
       "\n",
       "                                                context   \n",
       "25    เซอร์<b data-parsoid='{\"dsr\":[2047,2089,3,3]}'...  \\\n",
       "480   โจแอนน์ \"โจ\" โรว์ลิง (English: Joanne \"Jo\" Row...   \n",
       "686   พระสิทธัตถพุทธเจ้า มีพระนามเดิมว่า<b data-pars...   \n",
       "883   หลังคาเขียวที่เชื่อว่าเป็นสวนพฤกษศาสตร์หลังคาเ...   \n",
       "1354  \\nศาสนาฮินดู (English: Hinduism) หรือ สนาตนธรร...   \n",
       "1766  \\nกรมพระราชวังบวรสถานมงคล แต่เรียกกันเป็นสามัญ...   \n",
       "2124  ทหารผู้ยากแห่งพระคริสต์และพระวิหารแห่งโซโลมอน ...   \n",
       "2564  \\nศาสนาฮินดู (English: Hinduism) หรือ สนาตนธรร...   \n",
       "3177  โจแอนน์ \"โจ\" โรว์ลิง (English: Joanne \"Jo\" Row...   \n",
       "3957  บริษัท วอยซ์ ทีวี จำกัด จดทะเบียนจัดตั้งขึ้น เ...   \n",
       "4132  การวิจัย (English: research) หมายถึงการกระทำขอ...   \n",
       "4360  \\n\\n\\nคุณหญิง<b data-parsoid='{\"dsr\":[50,75,3,...   \n",
       "4408  ทัศนมิติ[1] (English: perspective) หรือทับศัพท...   \n",
       "\n",
       "                                                answers  \n",
       "25    {'text': ['เซอร์<b data-parsoid='{\"dsr\":[2047,...  \n",
       "480   {'text': [':[1509,1531,3,3]}'>โ'], 'start_byte...  \n",
       "686   {'text': ['id='{\"dsr\":[987'], 'start_byte': [2...  \n",
       "883   {'text': ['ออกัสเตนบอร์ก  แถบชานเมือง<i data-p...  \n",
       "1354  {'text': ['dsr\":[257,281'], 'start_byte': [332...  \n",
       "1766  {'text': ['oid='{\"dsr\":[764,777,3,3]}'>วังหน้า...  \n",
       "2124  {'text': ['dsr\":[1812,1833,3,3]}'>คณะแห่งพระวิ...  \n",
       "2564  {'text': ['dsr\":[257,281'], 'start_byte': [332...  \n",
       "3177  {'text': [':[1509,1531,3,3]}'>โ'], 'start_byte...  \n",
       "3957  {'text': ['data-parsoid='{\"dsr\":[4218,42', 'ั้...  \n",
       "4132  {'text': ['การกระทำของมนุษย์เพื่อค้นหาความจริง...  \n",
       "4360  {'text': ['r\":[50,75,3,3]}'>กนิษฐ', 'r\":[50,75...  \n",
       "4408  {'text': [''{\"dsr\":[211,229,3,3]}'>เพอร์สเปกที...  "
      ]
     },
     "execution_count": 13,
     "metadata": {},
     "output_type": "execute_result"
    }
   ],
   "source": [
    "tydiqa[tydiqa[\"answers\"].apply(lambda x: any([\":[\" in y for y in x[\"text\"]]))]"
   ]
  },
  {
   "cell_type": "code",
   "execution_count": 14,
   "metadata": {},
   "outputs": [
    {
     "data": {
      "text/html": [
       "<div>\n",
       "<style scoped>\n",
       "    .dataframe tbody tr th:only-of-type {\n",
       "        vertical-align: middle;\n",
       "    }\n",
       "\n",
       "    .dataframe tbody tr th {\n",
       "        vertical-align: top;\n",
       "    }\n",
       "\n",
       "    .dataframe thead th {\n",
       "        text-align: right;\n",
       "    }\n",
       "</style>\n",
       "<table border=\"1\" class=\"dataframe\">\n",
       "  <thead>\n",
       "    <tr style=\"text-align: right;\">\n",
       "      <th></th>\n",
       "      <th>question</th>\n",
       "      <th>context</th>\n",
       "      <th>answers</th>\n",
       "    </tr>\n",
       "  </thead>\n",
       "  <tbody>\n",
       "    <tr>\n",
       "      <th>25</th>\n",
       "      <td>ค.ศ. 1951 ใครเป็นนายกรัฐมนตรีของอังกฤษ ?</td>\n",
       "      <td>เซอร์&lt;b data-parsoid='{\"dsr\":[2047,2089,3,3]}'...</td>\n",
       "      <td>{'text': ['เซอร์&lt;b data-parsoid='{\"dsr\":[2047,...</td>\n",
       "    </tr>\n",
       "    <tr>\n",
       "      <th>686</th>\n",
       "      <td>เจ้าชายสิทธัตถะ เกิดที่ไหน?</td>\n",
       "      <td>พระสิทธัตถพุทธเจ้า มีพระนามเดิมว่า&lt;b data-pars...</td>\n",
       "      <td>{'text': ['id='{\"dsr\":[987'], 'start_byte': [2...</td>\n",
       "    </tr>\n",
       "    <tr>\n",
       "      <th>883</th>\n",
       "      <td>หลังคาเขียวที่เชื่อว่าเป็นสวนพฤกษศาสตร์หลังคาเ...</td>\n",
       "      <td>หลังคาเขียวที่เชื่อว่าเป็นสวนพฤกษศาสตร์หลังคาเ...</td>\n",
       "      <td>{'text': ['ออกัสเตนบอร์ก  แถบชานเมือง&lt;i data-p...</td>\n",
       "    </tr>\n",
       "    <tr>\n",
       "      <th>1524</th>\n",
       "      <td>แนวร่วมประชาธิปไตยมีเสื้อสีอะไรเป็นสัญลักษณ์?</td>\n",
       "      <td>แนวร่วมประชาธิปไตยต่อต้านเผด็จการแห่งชาติ (ชื่...</td>\n",
       "      <td>{'text': ['oid='], 'start_byte': [824], 'limit...</td>\n",
       "    </tr>\n",
       "    <tr>\n",
       "      <th>1766</th>\n",
       "      <td>กรมพระราชวังบวรสถานมงคล คืออะไร?</td>\n",
       "      <td>\\nกรมพระราชวังบวรสถานมงคล แต่เรียกกันเป็นสามัญ...</td>\n",
       "      <td>{'text': ['oid='{\"dsr\":[764,777,3,3]}'&gt;วังหน้า...</td>\n",
       "    </tr>\n",
       "    <tr>\n",
       "      <th>1959</th>\n",
       "      <td>ปฏิกิริยานิวเคลียร์ฟิวชั่น เกิดขึ้นได้อย่างไร?</td>\n",
       "      <td>\\nพลังงานฟิวชั่น (English: Fusion power) คือพล...</td>\n",
       "      <td>{'text': ['นิวเคลียสของอะตอมธาตุเบาหลอมตัวเข้า...</td>\n",
       "    </tr>\n",
       "    <tr>\n",
       "      <th>3528</th>\n",
       "      <td>ใครเป็นผู้คิดค้น สเตรปโตมัยซิน?</td>\n",
       "      <td>สเตรปโตมัยซินถูกค้นพบครั้งแรกเมื่อวันที่ 19 ตุ...</td>\n",
       "      <td>{'text': ['&lt;b data-parsoid='], 'start_byte': [...</td>\n",
       "    </tr>\n",
       "    <tr>\n",
       "      <th>3957</th>\n",
       "      <td>วอยซ์ ทีวี ดำเนินการโดยบริษัทใด?</td>\n",
       "      <td>บริษัท วอยซ์ ทีวี จำกัด จดทะเบียนจัดตั้งขึ้น เ...</td>\n",
       "      <td>{'text': ['data-parsoid='{\"dsr\":[4218,42', 'ั้...</td>\n",
       "    </tr>\n",
       "    <tr>\n",
       "      <th>4132</th>\n",
       "      <td>งานวิจัย คืออะไร ?</td>\n",
       "      <td>การวิจัย (English: research) หมายถึงการกระทำขอ...</td>\n",
       "      <td>{'text': ['การกระทำของมนุษย์เพื่อค้นหาความจริง...</td>\n",
       "    </tr>\n",
       "  </tbody>\n",
       "</table>\n",
       "</div>"
      ],
      "text/plain": [
       "                                               question   \n",
       "25             ค.ศ. 1951 ใครเป็นนายกรัฐมนตรีของอังกฤษ ?  \\\n",
       "686                         เจ้าชายสิทธัตถะ เกิดที่ไหน?   \n",
       "883   หลังคาเขียวที่เชื่อว่าเป็นสวนพฤกษศาสตร์หลังคาเ...   \n",
       "1524      แนวร่วมประชาธิปไตยมีเสื้อสีอะไรเป็นสัญลักษณ์?   \n",
       "1766                   กรมพระราชวังบวรสถานมงคล คืออะไร?   \n",
       "1959     ปฏิกิริยานิวเคลียร์ฟิวชั่น เกิดขึ้นได้อย่างไร?   \n",
       "3528                    ใครเป็นผู้คิดค้น สเตรปโตมัยซิน?   \n",
       "3957                   วอยซ์ ทีวี ดำเนินการโดยบริษัทใด?   \n",
       "4132                                 งานวิจัย คืออะไร ?   \n",
       "\n",
       "                                                context   \n",
       "25    เซอร์<b data-parsoid='{\"dsr\":[2047,2089,3,3]}'...  \\\n",
       "686   พระสิทธัตถพุทธเจ้า มีพระนามเดิมว่า<b data-pars...   \n",
       "883   หลังคาเขียวที่เชื่อว่าเป็นสวนพฤกษศาสตร์หลังคาเ...   \n",
       "1524  แนวร่วมประชาธิปไตยต่อต้านเผด็จการแห่งชาติ (ชื่...   \n",
       "1766  \\nกรมพระราชวังบวรสถานมงคล แต่เรียกกันเป็นสามัญ...   \n",
       "1959  \\nพลังงานฟิวชั่น (English: Fusion power) คือพล...   \n",
       "3528  สเตรปโตมัยซินถูกค้นพบครั้งแรกเมื่อวันที่ 19 ตุ...   \n",
       "3957  บริษัท วอยซ์ ทีวี จำกัด จดทะเบียนจัดตั้งขึ้น เ...   \n",
       "4132  การวิจัย (English: research) หมายถึงการกระทำขอ...   \n",
       "\n",
       "                                                answers  \n",
       "25    {'text': ['เซอร์<b data-parsoid='{\"dsr\":[2047,...  \n",
       "686   {'text': ['id='{\"dsr\":[987'], 'start_byte': [2...  \n",
       "883   {'text': ['ออกัสเตนบอร์ก  แถบชานเมือง<i data-p...  \n",
       "1524  {'text': ['oid='], 'start_byte': [824], 'limit...  \n",
       "1766  {'text': ['oid='{\"dsr\":[764,777,3,3]}'>วังหน้า...  \n",
       "1959  {'text': ['นิวเคลียสของอะตอมธาตุเบาหลอมตัวเข้า...  \n",
       "3528  {'text': ['<b data-parsoid='], 'start_byte': [...  \n",
       "3957  {'text': ['data-parsoid='{\"dsr\":[4218,42', 'ั้...  \n",
       "4132  {'text': ['การกระทำของมนุษย์เพื่อค้นหาความจริง...  "
      ]
     },
     "execution_count": 14,
     "metadata": {},
     "output_type": "execute_result"
    }
   ],
   "source": [
    "tydiqa[tydiqa[\"answers\"].apply(lambda x: any([\"=\" in y for y in x[\"text\"]]))]"
   ]
  },
  {
   "cell_type": "code",
   "execution_count": 15,
   "metadata": {},
   "outputs": [
    {
     "data": {
      "text/html": [
       "<div>\n",
       "<style scoped>\n",
       "    .dataframe tbody tr th:only-of-type {\n",
       "        vertical-align: middle;\n",
       "    }\n",
       "\n",
       "    .dataframe tbody tr th {\n",
       "        vertical-align: top;\n",
       "    }\n",
       "\n",
       "    .dataframe thead th {\n",
       "        text-align: right;\n",
       "    }\n",
       "</style>\n",
       "<table border=\"1\" class=\"dataframe\">\n",
       "  <thead>\n",
       "    <tr style=\"text-align: right;\">\n",
       "      <th></th>\n",
       "      <th>question</th>\n",
       "      <th>context</th>\n",
       "      <th>answers</th>\n",
       "    </tr>\n",
       "  </thead>\n",
       "  <tbody>\n",
       "    <tr>\n",
       "      <th>25</th>\n",
       "      <td>ค.ศ. 1951 ใครเป็นนายกรัฐมนตรีของอังกฤษ ?</td>\n",
       "      <td>เซอร์&lt;b data-parsoid='{\"dsr\":[2047,2089,3,3]}'...</td>\n",
       "      <td>{'text': ['เซอร์&lt;b data-parsoid='{\"dsr\":[2047,...</td>\n",
       "    </tr>\n",
       "    <tr>\n",
       "      <th>395</th>\n",
       "      <td>ลัทธิขงจื๊อคืออะไร?</td>\n",
       "      <td>thumbnail|250px|หอต้าเฉิง (Dàchéng) อาคารหลักข...</td>\n",
       "      <td>{'text': ['นาขงจื๊อ[1] (English: Confucian'], ...</td>\n",
       "    </tr>\n",
       "    <tr>\n",
       "      <th>480</th>\n",
       "      <td>เจ.เค. โรว์ลิ่ง เกิดวันที่เท่าไหร่?</td>\n",
       "      <td>โจแอนน์ \"โจ\" โรว์ลิง (English: Joanne \"Jo\" Row...</td>\n",
       "      <td>{'text': [':[1509,1531,3,3]}'&gt;โ'], 'start_byte...</td>\n",
       "    </tr>\n",
       "    <tr>\n",
       "      <th>543</th>\n",
       "      <td>พระไตรปิฎก เป็นคำสอนของใคร?</td>\n",
       "      <td>\\nพระไตรปิฎก (Pali: Tipiṭaka; Sanskrit: त्रिपि...</td>\n",
       "      <td>{'text': ['พระโคตมพุทธเจ้า['], 'start_byte': [...</td>\n",
       "    </tr>\n",
       "    <tr>\n",
       "      <th>683</th>\n",
       "      <td>ประพุทธเจ้าทรงประสูติเมื่อวันที่เท่าไหร่?</td>\n",
       "      <td>\\nในคืนที่พระโพธิสัตว์เสด็จปฏิสนธิในครรภ์พระนา...</td>\n",
       "      <td>{'text': ['[5]ขึ้น 15 ค่ำ เดือน 6 ปีจอ ก่อนพุท...</td>\n",
       "    </tr>\n",
       "    <tr>\n",
       "      <th>686</th>\n",
       "      <td>เจ้าชายสิทธัตถะ เกิดที่ไหน?</td>\n",
       "      <td>พระสิทธัตถพุทธเจ้า มีพระนามเดิมว่า&lt;b data-pars...</td>\n",
       "      <td>{'text': ['id='{\"dsr\":[987'], 'start_byte': [2...</td>\n",
       "    </tr>\n",
       "    <tr>\n",
       "      <th>883</th>\n",
       "      <td>หลังคาเขียวที่เชื่อว่าเป็นสวนพฤกษศาสตร์หลังคาเ...</td>\n",
       "      <td>หลังคาเขียวที่เชื่อว่าเป็นสวนพฤกษศาสตร์หลังคาเ...</td>\n",
       "      <td>{'text': ['ออกัสเตนบอร์ก  แถบชานเมือง&lt;i data-p...</td>\n",
       "    </tr>\n",
       "    <tr>\n",
       "      <th>1354</th>\n",
       "      <td>ศาสดาของศาสนาฮินดูคือใคร?</td>\n",
       "      <td>\\nศาสนาฮินดู (English: Hinduism) หรือ สนาตนธรร...</td>\n",
       "      <td>{'text': ['dsr\":[257,281'], 'start_byte': [332...</td>\n",
       "    </tr>\n",
       "    <tr>\n",
       "      <th>1617</th>\n",
       "      <td>นาย ฟิเนียส์ พี. เกจ เกิดที่ไหน ?</td>\n",
       "      <td>\\nนายเกจเป็นบุตรคนแรกในพี่น้อง 5 คนเกิดจากนายเ...</td>\n",
       "      <td>{'text': ['งเทศมณฑลกราฟตัน  มลรัฐนิวแฮมป์เชียร...</td>\n",
       "    </tr>\n",
       "    <tr>\n",
       "      <th>1766</th>\n",
       "      <td>กรมพระราชวังบวรสถานมงคล คืออะไร?</td>\n",
       "      <td>\\nกรมพระราชวังบวรสถานมงคล แต่เรียกกันเป็นสามัญ...</td>\n",
       "      <td>{'text': ['oid='{\"dsr\":[764,777,3,3]}'&gt;วังหน้า...</td>\n",
       "    </tr>\n",
       "    <tr>\n",
       "      <th>2016</th>\n",
       "      <td>โตเกียวเป็นเมืองหลวงของประเทศญี่ปุ่นตั้งแต่เมื...</td>\n",
       "      <td>\\nโตเกียวเคยเรียกว่า&lt;b data-parsoid='{\"dsr\":[4...</td>\n",
       "      <td>{'text': ['กน้ำ [7]'], 'start_byte': [140], 'l...</td>\n",
       "    </tr>\n",
       "    <tr>\n",
       "      <th>2124</th>\n",
       "      <td>อัศวินเทมพลาร์ คืออะไร?</td>\n",
       "      <td>ทหารผู้ยากแห่งพระคริสต์และพระวิหารแห่งโซโลมอน ...</td>\n",
       "      <td>{'text': ['dsr\":[1812,1833,3,3]}'&gt;คณะแห่งพระวิ...</td>\n",
       "    </tr>\n",
       "    <tr>\n",
       "      <th>2284</th>\n",
       "      <td>ยาปฏิชีวนะ คืออะไร?</td>\n",
       "      <td>\\nยาปฏิชีวนะ (English: Antibiotics จากภาษากรีซ...</td>\n",
       "      <td>{'text': ['กลุ่มย่อยของยาอีกกลุ่มหนึ่งในกลุ่มย...</td>\n",
       "    </tr>\n",
       "    <tr>\n",
       "      <th>2344</th>\n",
       "      <td>ยาปฏิชีวนะ คืออะไร ?</td>\n",
       "      <td>\\nยาปฏิชีวนะ (English: Antibiotics จากภาษากรีซ...</td>\n",
       "      <td>{'text': ['ยาฆ่าเชื้อแบคทีเรีย (Antibacterials...</td>\n",
       "    </tr>\n",
       "    <tr>\n",
       "      <th>2408</th>\n",
       "      <td>วัดพระราม ๙ ได้รับการยกขึ้นเป็นพระอารามหลวงเมื...</td>\n",
       "      <td>\\nวัดพระราม ๙ กาญจนาภิเษก เป็นวัดธรรมยุติกนิกา...</td>\n",
       "      <td>{'text': ['15 ตุลาคม พ.ศ. 2542['], 'start_byte...</td>\n",
       "    </tr>\n",
       "    <tr>\n",
       "      <th>2564</th>\n",
       "      <td>ศาสดาของ ศาสนาพราหมณ์-ฮินดู คือใคร?</td>\n",
       "      <td>\\nศาสนาฮินดู (English: Hinduism) หรือ สนาตนธรร...</td>\n",
       "      <td>{'text': ['dsr\":[257,281'], 'start_byte': [332...</td>\n",
       "    </tr>\n",
       "    <tr>\n",
       "      <th>2964</th>\n",
       "      <td>ฮายาเตะ พ่อบ้านประจัญบานสำหรับอนิเมะนั้น ในไทย...</td>\n",
       "      <td>ปัจจุบันตีพิมพ์ลงในนิตยสาร โชเน็งซันเดย์ ในญี่...</td>\n",
       "      <td>{'text': ['โรส แอนิเมชัน['], 'start_byte': [72...</td>\n",
       "    </tr>\n",
       "    <tr>\n",
       "      <th>3177</th>\n",
       "      <td>เจ. เค. โรว์ลิ่ง เกิดวันที่เท่าไหร่?</td>\n",
       "      <td>โจแอนน์ \"โจ\" โรว์ลิง (English: Joanne \"Jo\" Row...</td>\n",
       "      <td>{'text': [':[1509,1531,3,3]}'&gt;โ'], 'start_byte...</td>\n",
       "    </tr>\n",
       "    <tr>\n",
       "      <th>3432</th>\n",
       "      <td>วันสารทจีน จะจัดขึ้นช่วงใดของทุกปี ?</td>\n",
       "      <td>\\n\\nวันสารทจีน ตามปฏิทินทางจันทรคติ เทศกาลสารท...</td>\n",
       "      <td>{'text': ['15 เดือน 7[1] ตามปฏิทินจีน'], 'star...</td>\n",
       "    </tr>\n",
       "    <tr>\n",
       "      <th>3565</th>\n",
       "      <td>เรือหลวงจักรีนฤเบศร มีความยาวเท่าไหร่?</td>\n",
       "      <td>เรือหลวง&lt;i data-parsoid='{\"dsr\":[7948,7963,2,2...</td>\n",
       "      <td>{'text': ['ง มีระวางขับน้ำเต็มที่ 11,544 ตัน[9...</td>\n",
       "    </tr>\n",
       "    <tr>\n",
       "      <th>3640</th>\n",
       "      <td>วีระยุทธ ดิษยะศริน  ทำอาชีพอะไร ?</td>\n",
       "      <td>ปัจจุบันนาวาอากาศเอกวีระยุทธ ดำรงตำแหน่งเป็นอุ...</td>\n",
       "      <td>{'text': ['อุปนายกสมาคมกีฬาทางอากาศ และการบินแ...</td>\n",
       "    </tr>\n",
       "    <tr>\n",
       "      <th>3890</th>\n",
       "      <td>บริษัท สยามสปอร์ต เทเลวิชัน จำกัด ก่อตั้งขึ้นเ...</td>\n",
       "      <td>บริษัท สปอร์ตสแอนด์เลเซอร์โปรโมชัน จำกัด ก่อตั...</td>\n",
       "      <td>{'text': ['พ.ศ. 2534', 'พ.ศ. 2534', 'พ.ศ. 2534...</td>\n",
       "    </tr>\n",
       "    <tr>\n",
       "      <th>3957</th>\n",
       "      <td>วอยซ์ ทีวี ดำเนินการโดยบริษัทใด?</td>\n",
       "      <td>บริษัท วอยซ์ ทีวี จำกัด จดทะเบียนจัดตั้งขึ้น เ...</td>\n",
       "      <td>{'text': ['data-parsoid='{\"dsr\":[4218,42', 'ั้...</td>\n",
       "    </tr>\n",
       "    <tr>\n",
       "      <th>4132</th>\n",
       "      <td>งานวิจัย คืออะไร ?</td>\n",
       "      <td>การวิจัย (English: research) หมายถึงการกระทำขอ...</td>\n",
       "      <td>{'text': ['การกระทำของมนุษย์เพื่อค้นหาความจริง...</td>\n",
       "    </tr>\n",
       "    <tr>\n",
       "      <th>4144</th>\n",
       "      <td>รัฐเอกราชคืออะไร?</td>\n",
       "      <td>\\t\\nในภูมิศาสตร์การเมือง รัฐเอกราช (sovereign ...</td>\n",
       "      <td>{'text': ['องค์กรทางการเมืองที่มีการปกครองแบบร...</td>\n",
       "    </tr>\n",
       "    <tr>\n",
       "      <th>4360</th>\n",
       "      <td>คุณหญิงกนิษฐา วิเชียรเจริญ เกิดเมื่อไหร่?</td>\n",
       "      <td>\\n\\n\\nคุณหญิง&lt;b data-parsoid='{\"dsr\":[50,75,3,...</td>\n",
       "      <td>{'text': ['r\":[50,75,3,3]}'&gt;กนิษฐ', 'r\":[50,75...</td>\n",
       "    </tr>\n",
       "    <tr>\n",
       "      <th>4408</th>\n",
       "      <td>ทัศนมิติ คืออะไร ?</td>\n",
       "      <td>ทัศนมิติ[1] (English: perspective) หรือทับศัพท...</td>\n",
       "      <td>{'text': [''{\"dsr\":[211,229,3,3]}'&gt;เพอร์สเปกที...</td>\n",
       "    </tr>\n",
       "    <tr>\n",
       "      <th>4523</th>\n",
       "      <td>โทรทัศน์ คิดค้นครั้งแรกโดยใคร ?</td>\n",
       "      <td>เครื่องรับโทรทัศนขาว-ดำเครื่องแรกของโลก สร้างข...</td>\n",
       "      <td>{'text': ['จอห์น โลจี เบร์ด', 'จอห์น โลจี เบร์...</td>\n",
       "    </tr>\n",
       "  </tbody>\n",
       "</table>\n",
       "</div>"
      ],
      "text/plain": [
       "                                               question   \n",
       "25             ค.ศ. 1951 ใครเป็นนายกรัฐมนตรีของอังกฤษ ?  \\\n",
       "395                                 ลัทธิขงจื๊อคืออะไร?   \n",
       "480                 เจ.เค. โรว์ลิ่ง เกิดวันที่เท่าไหร่?   \n",
       "543                         พระไตรปิฎก เป็นคำสอนของใคร?   \n",
       "683           ประพุทธเจ้าทรงประสูติเมื่อวันที่เท่าไหร่?   \n",
       "686                         เจ้าชายสิทธัตถะ เกิดที่ไหน?   \n",
       "883   หลังคาเขียวที่เชื่อว่าเป็นสวนพฤกษศาสตร์หลังคาเ...   \n",
       "1354                          ศาสดาของศาสนาฮินดูคือใคร?   \n",
       "1617                  นาย ฟิเนียส์ พี. เกจ เกิดที่ไหน ?   \n",
       "1766                   กรมพระราชวังบวรสถานมงคล คืออะไร?   \n",
       "2016  โตเกียวเป็นเมืองหลวงของประเทศญี่ปุ่นตั้งแต่เมื...   \n",
       "2124                            อัศวินเทมพลาร์ คืออะไร?   \n",
       "2284                                ยาปฏิชีวนะ คืออะไร?   \n",
       "2344                               ยาปฏิชีวนะ คืออะไร ?   \n",
       "2408  วัดพระราม ๙ ได้รับการยกขึ้นเป็นพระอารามหลวงเมื...   \n",
       "2564                ศาสดาของ ศาสนาพราหมณ์-ฮินดู คือใคร?   \n",
       "2964  ฮายาเตะ พ่อบ้านประจัญบานสำหรับอนิเมะนั้น ในไทย...   \n",
       "3177               เจ. เค. โรว์ลิ่ง เกิดวันที่เท่าไหร่?   \n",
       "3432               วันสารทจีน จะจัดขึ้นช่วงใดของทุกปี ?   \n",
       "3565             เรือหลวงจักรีนฤเบศร มีความยาวเท่าไหร่?   \n",
       "3640                  วีระยุทธ ดิษยะศริน  ทำอาชีพอะไร ?   \n",
       "3890  บริษัท สยามสปอร์ต เทเลวิชัน จำกัด ก่อตั้งขึ้นเ...   \n",
       "3957                   วอยซ์ ทีวี ดำเนินการโดยบริษัทใด?   \n",
       "4132                                 งานวิจัย คืออะไร ?   \n",
       "4144                                  รัฐเอกราชคืออะไร?   \n",
       "4360          คุณหญิงกนิษฐา วิเชียรเจริญ เกิดเมื่อไหร่?   \n",
       "4408                                 ทัศนมิติ คืออะไร ?   \n",
       "4523                    โทรทัศน์ คิดค้นครั้งแรกโดยใคร ?   \n",
       "\n",
       "                                                context   \n",
       "25    เซอร์<b data-parsoid='{\"dsr\":[2047,2089,3,3]}'...  \\\n",
       "395   thumbnail|250px|หอต้าเฉิง (Dàchéng) อาคารหลักข...   \n",
       "480   โจแอนน์ \"โจ\" โรว์ลิง (English: Joanne \"Jo\" Row...   \n",
       "543   \\nพระไตรปิฎก (Pali: Tipiṭaka; Sanskrit: त्रिपि...   \n",
       "683   \\nในคืนที่พระโพธิสัตว์เสด็จปฏิสนธิในครรภ์พระนา...   \n",
       "686   พระสิทธัตถพุทธเจ้า มีพระนามเดิมว่า<b data-pars...   \n",
       "883   หลังคาเขียวที่เชื่อว่าเป็นสวนพฤกษศาสตร์หลังคาเ...   \n",
       "1354  \\nศาสนาฮินดู (English: Hinduism) หรือ สนาตนธรร...   \n",
       "1617  \\nนายเกจเป็นบุตรคนแรกในพี่น้อง 5 คนเกิดจากนายเ...   \n",
       "1766  \\nกรมพระราชวังบวรสถานมงคล แต่เรียกกันเป็นสามัญ...   \n",
       "2016  \\nโตเกียวเคยเรียกว่า<b data-parsoid='{\"dsr\":[4...   \n",
       "2124  ทหารผู้ยากแห่งพระคริสต์และพระวิหารแห่งโซโลมอน ...   \n",
       "2284  \\nยาปฏิชีวนะ (English: Antibiotics จากภาษากรีซ...   \n",
       "2344  \\nยาปฏิชีวนะ (English: Antibiotics จากภาษากรีซ...   \n",
       "2408  \\nวัดพระราม ๙ กาญจนาภิเษก เป็นวัดธรรมยุติกนิกา...   \n",
       "2564  \\nศาสนาฮินดู (English: Hinduism) หรือ สนาตนธรร...   \n",
       "2964  ปัจจุบันตีพิมพ์ลงในนิตยสาร โชเน็งซันเดย์ ในญี่...   \n",
       "3177  โจแอนน์ \"โจ\" โรว์ลิง (English: Joanne \"Jo\" Row...   \n",
       "3432  \\n\\nวันสารทจีน ตามปฏิทินทางจันทรคติ เทศกาลสารท...   \n",
       "3565  เรือหลวง<i data-parsoid='{\"dsr\":[7948,7963,2,2...   \n",
       "3640  ปัจจุบันนาวาอากาศเอกวีระยุทธ ดำรงตำแหน่งเป็นอุ...   \n",
       "3890  บริษัท สปอร์ตสแอนด์เลเซอร์โปรโมชัน จำกัด ก่อตั...   \n",
       "3957  บริษัท วอยซ์ ทีวี จำกัด จดทะเบียนจัดตั้งขึ้น เ...   \n",
       "4132  การวิจัย (English: research) หมายถึงการกระทำขอ...   \n",
       "4144  \\t\\nในภูมิศาสตร์การเมือง รัฐเอกราช (sovereign ...   \n",
       "4360  \\n\\n\\nคุณหญิง<b data-parsoid='{\"dsr\":[50,75,3,...   \n",
       "4408  ทัศนมิติ[1] (English: perspective) หรือทับศัพท...   \n",
       "4523  เครื่องรับโทรทัศนขาว-ดำเครื่องแรกของโลก สร้างข...   \n",
       "\n",
       "                                                answers  \n",
       "25    {'text': ['เซอร์<b data-parsoid='{\"dsr\":[2047,...  \n",
       "395   {'text': ['นาขงจื๊อ[1] (English: Confucian'], ...  \n",
       "480   {'text': [':[1509,1531,3,3]}'>โ'], 'start_byte...  \n",
       "543   {'text': ['พระโคตมพุทธเจ้า['], 'start_byte': [...  \n",
       "683   {'text': ['[5]ขึ้น 15 ค่ำ เดือน 6 ปีจอ ก่อนพุท...  \n",
       "686   {'text': ['id='{\"dsr\":[987'], 'start_byte': [2...  \n",
       "883   {'text': ['ออกัสเตนบอร์ก  แถบชานเมือง<i data-p...  \n",
       "1354  {'text': ['dsr\":[257,281'], 'start_byte': [332...  \n",
       "1617  {'text': ['งเทศมณฑลกราฟตัน  มลรัฐนิวแฮมป์เชียร...  \n",
       "1766  {'text': ['oid='{\"dsr\":[764,777,3,3]}'>วังหน้า...  \n",
       "2016  {'text': ['กน้ำ [7]'], 'start_byte': [140], 'l...  \n",
       "2124  {'text': ['dsr\":[1812,1833,3,3]}'>คณะแห่งพระวิ...  \n",
       "2284  {'text': ['กลุ่มย่อยของยาอีกกลุ่มหนึ่งในกลุ่มย...  \n",
       "2344  {'text': ['ยาฆ่าเชื้อแบคทีเรีย (Antibacterials...  \n",
       "2408  {'text': ['15 ตุลาคม พ.ศ. 2542['], 'start_byte...  \n",
       "2564  {'text': ['dsr\":[257,281'], 'start_byte': [332...  \n",
       "2964  {'text': ['โรส แอนิเมชัน['], 'start_byte': [72...  \n",
       "3177  {'text': [':[1509,1531,3,3]}'>โ'], 'start_byte...  \n",
       "3432  {'text': ['15 เดือน 7[1] ตามปฏิทินจีน'], 'star...  \n",
       "3565  {'text': ['ง มีระวางขับน้ำเต็มที่ 11,544 ตัน[9...  \n",
       "3640  {'text': ['อุปนายกสมาคมกีฬาทางอากาศ และการบินแ...  \n",
       "3890  {'text': ['พ.ศ. 2534', 'พ.ศ. 2534', 'พ.ศ. 2534...  \n",
       "3957  {'text': ['data-parsoid='{\"dsr\":[4218,42', 'ั้...  \n",
       "4132  {'text': ['การกระทำของมนุษย์เพื่อค้นหาความจริง...  \n",
       "4144  {'text': ['องค์กรทางการเมืองที่มีการปกครองแบบร...  \n",
       "4360  {'text': ['r\":[50,75,3,3]}'>กนิษฐ', 'r\":[50,75...  \n",
       "4408  {'text': [''{\"dsr\":[211,229,3,3]}'>เพอร์สเปกที...  \n",
       "4523  {'text': ['จอห์น โลจี เบร์ด', 'จอห์น โลจี เบร์...  "
      ]
     },
     "execution_count": 15,
     "metadata": {},
     "output_type": "execute_result"
    }
   ],
   "source": [
    "tydiqa[tydiqa[\"answers\"].apply(lambda x: any([\"[\" in y for y in x[\"text\"]]))]"
   ]
  },
  {
   "cell_type": "code",
   "execution_count": 16,
   "metadata": {},
   "outputs": [],
   "source": [
    "tydiqa = tydiqa.drop([480, 686, 953, 2057, 3177])\n",
    "tydiqa = tydiqa[tydiqa[\"answers\"].apply(lambda x: not any([\"}'>\" in y for y in x[\"text\"]]))]\n",
    "tydiqa = tydiqa[tydiqa[\"answers\"].apply(lambda x: not any([\":[\" in y for y in x[\"text\"]]))]\n",
    "tydiqa = tydiqa[tydiqa[\"answers\"].apply(lambda x: not any([\"=\" in y for y in x[\"text\"]]))]\n",
    "tydiqa = tydiqa[tydiqa[\"answers\"].apply(lambda x: not any([\"[\" in y for y in x[\"text\"]]))]"
   ]
  },
  {
   "attachments": {},
   "cell_type": "markdown",
   "metadata": {},
   "source": [
    "### Apply cleaning process to dataset"
   ]
  },
  {
   "cell_type": "code",
   "execution_count": 17,
   "metadata": {},
   "outputs": [
    {
     "name": "stderr",
     "output_type": "stream",
     "text": [
      "/Users/parinzee/Projects/cross-lingual-data-augmentation-for-qa-in-low-resource-languages/utils.py:7: MarkupResemblesLocatorWarning: The input looks more like a filename than markup. You may want to open this file and pass the filehandle into Beautiful Soup.\n",
      "  soup = BeautifulSoup(text, 'lxml')\n",
      "/Users/parinzee/Projects/cross-lingual-data-augmentation-for-qa-in-low-resource-languages/utils.py:7: MarkupResemblesLocatorWarning: The input looks more like a filename than markup. You may want to open this file and pass the filehandle into Beautiful Soup.\n",
      "  soup = BeautifulSoup(text, 'lxml')\n",
      "/Users/parinzee/Projects/cross-lingual-data-augmentation-for-qa-in-low-resource-languages/utils.py:7: MarkupResemblesLocatorWarning: The input looks more like a filename than markup. You may want to open this file and pass the filehandle into Beautiful Soup.\n",
      "  soup = BeautifulSoup(text, 'lxml')\n",
      "/Users/parinzee/Projects/cross-lingual-data-augmentation-for-qa-in-low-resource-languages/utils.py:7: MarkupResemblesLocatorWarning: The input looks more like a filename than markup. You may want to open this file and pass the filehandle into Beautiful Soup.\n",
      "  soup = BeautifulSoup(text, 'lxml')\n"
     ]
    }
   ],
   "source": [
    "iapp = iapp.apply(lambda x: process_row(x, \"text\", \"answer_start\"), axis=1)\n",
    "thaiqa = thaiqa.apply(lambda x: process_row(x, \"answer\", \"answer_begin_position\"), axis=1)\n",
    "xquad = xquad.apply(lambda x: process_row(x, \"text\", \"answer_start\"), axis=1)\n",
    "tydiqa = tydiqa.apply(lambda x: process_row(x, \"text\", \"start_byte\"), axis=1)"
   ]
  },
  {
   "cell_type": "code",
   "execution_count": 18,
   "metadata": {},
   "outputs": [
    {
     "name": "stderr",
     "output_type": "stream",
     "text": [
      "100%|██████████| 4/4 [00:00<00:00, 5155.87it/s]\n"
     ]
    },
    {
     "name": "stdout",
     "output_type": "stream",
     "text": [
      "All Keys Matched...\n"
     ]
    },
    {
     "name": "stderr",
     "output_type": "stream",
     "text": [
      "100%|██████████| 7242/7242 [00:00<00:00, 170435.30it/s]\n",
      "100%|██████████| 4074/4074 [00:00<00:00, 174281.40it/s]\n",
      "100%|██████████| 1190/1190 [00:00<00:00, 135594.18it/s]\n",
      "100%|██████████| 4542/4542 [00:00<00:00, 163147.14it/s]\n"
     ]
    },
    {
     "name": "stdout",
     "output_type": "stream",
     "text": [
      "Theortical Answers Matched...\n"
     ]
    },
    {
     "name": "stderr",
     "output_type": "stream",
     "text": [
      "100%|██████████| 4/4 [00:00<00:00, 1241.47it/s]"
     ]
    },
    {
     "name": "stdout",
     "output_type": "stream",
     "text": [
      "No empty columns...\n"
     ]
    },
    {
     "name": "stderr",
     "output_type": "stream",
     "text": [
      "\n"
     ]
    }
   ],
   "source": [
    "sanity_check([iapp, thaiqa, xquad, tydiqa])"
   ]
  },
  {
   "attachments": {},
   "cell_type": "markdown",
   "metadata": {},
   "source": [
    "## Merge the Datasets"
   ]
  },
  {
   "cell_type": "code",
   "execution_count": 19,
   "metadata": {},
   "outputs": [],
   "source": [
    "iapp[\"source\"] = \"iapp\"\n",
    "thaiqa[\"source\"] = \"thaiqa\"\n",
    "xquad[\"source\"] = \"xquad\"\n",
    "tydiqa[\"source\"] = \"tydiqa\""
   ]
  },
  {
   "cell_type": "code",
   "execution_count": 20,
   "metadata": {},
   "outputs": [
    {
     "data": {
      "text/html": [
       "<div>\n",
       "<style scoped>\n",
       "    .dataframe tbody tr th:only-of-type {\n",
       "        vertical-align: middle;\n",
       "    }\n",
       "\n",
       "    .dataframe tbody tr th {\n",
       "        vertical-align: top;\n",
       "    }\n",
       "\n",
       "    .dataframe thead th {\n",
       "        text-align: right;\n",
       "    }\n",
       "</style>\n",
       "<table border=\"1\" class=\"dataframe\">\n",
       "  <thead>\n",
       "    <tr style=\"text-align: right;\">\n",
       "      <th></th>\n",
       "      <th>question</th>\n",
       "      <th>context</th>\n",
       "      <th>answers</th>\n",
       "      <th>source</th>\n",
       "    </tr>\n",
       "  </thead>\n",
       "  <tbody>\n",
       "    <tr>\n",
       "      <th>0</th>\n",
       "      <td>พัทธ์ธีรา ศรุติพงศ์โภคิน เกิดวันที่เท่าไร?</td>\n",
       "      <td>พัทธ์ธีรา ศรุติพงศ์โภคิน (เกิด 3 ธันวาคม พ.ศ. ...</td>\n",
       "      <td>{'text': ['3 ธันวาคม พ.ศ. 2533'], 'answer_star...</td>\n",
       "      <td>iapp</td>\n",
       "    </tr>\n",
       "    <tr>\n",
       "      <th>1</th>\n",
       "      <td>พัทธ์ธีรา ศรุติพงศ์โภคิน มีฃื่อเล่นว่าอะไร?</td>\n",
       "      <td>พัทธ์ธีรา ศรุติพงศ์โภคิน (เกิด 3 ธันวาคม พ.ศ. ...</td>\n",
       "      <td>{'text': ['อร'], 'answer_start': [68], 'answer...</td>\n",
       "      <td>iapp</td>\n",
       "    </tr>\n",
       "    <tr>\n",
       "      <th>2</th>\n",
       "      <td>พัทธ์ธีรา ศรุติพงศ์โภคิน ทำอาชีพอะไร?</td>\n",
       "      <td>พัทธ์ธีรา ศรุติพงศ์โภคิน (เกิด 3 ธันวาคม พ.ศ. ...</td>\n",
       "      <td>{'text': ['นักแสดงหญิงชาวไทย'], 'answer_start'...</td>\n",
       "      <td>iapp</td>\n",
       "    </tr>\n",
       "    <tr>\n",
       "      <th>3</th>\n",
       "      <td>พัทธ์ธีรา ศรุติพงศ์โภคิน จบการศึกษาจากประเทศอะไร?</td>\n",
       "      <td>พัทธ์ธีรา ศรุติพงศ์โภคิน (เกิด 3 ธันวาคม พ.ศ. ...</td>\n",
       "      <td>{'text': ['ประเทศนิวซีแลนด์'], 'answer_start':...</td>\n",
       "      <td>iapp</td>\n",
       "    </tr>\n",
       "    <tr>\n",
       "      <th>4</th>\n",
       "      <td>บิดาของคลีโอพัตราเป็นใคร?</td>\n",
       "      <td>คลีโอพัตราที่ 7 ฟิโลพาเธอร์ (กรีก: Κλεοπάτρα θ...</td>\n",
       "      <td>{'text': ['ทอเลมีที่ 12 ออเลติส'], 'answer_sta...</td>\n",
       "      <td>iapp</td>\n",
       "    </tr>\n",
       "    <tr>\n",
       "      <th>...</th>\n",
       "      <td>...</td>\n",
       "      <td>...</td>\n",
       "      <td>...</td>\n",
       "      <td>...</td>\n",
       "    </tr>\n",
       "    <tr>\n",
       "      <th>17043</th>\n",
       "      <td>หนังสือการ์ตูนชานะ นักรบเนตรอัคคี มีกี่เล่ม?</td>\n",
       "      <td>นิยาย ชานะ นักรบเนตรอัคคี แต่งโดย ยาชิจิโร ทาค...</td>\n",
       "      <td>{'text': ['22', '26'], 'answer_start': [267, 9...</td>\n",
       "      <td>tydiqa</td>\n",
       "    </tr>\n",
       "    <tr>\n",
       "      <th>17044</th>\n",
       "      <td>ไบโอช็อก อินฟินิต เปิดตัวครั้งแรกเมื่อไหร่?</td>\n",
       "      <td>ไบโอช็อก อินฟินิต (English: BioShock Infinite)...</td>\n",
       "      <td>{'text': ['26 มีนาคม พ.ศ. 2556', '26 มีนาคม พ....</td>\n",
       "      <td>tydiqa</td>\n",
       "    </tr>\n",
       "    <tr>\n",
       "      <th>17045</th>\n",
       "      <td>ยู ซึง-โฮ เริ่มเข้าวงการบันเทิงเมื่อไหร่?</td>\n",
       "      <td>ยู ซึง-โฮเดบิวต์เมื่อปี 1999 กับผลงานโฆษณาของ ...</td>\n",
       "      <td>{'text': ['ปี 1999', '1999'], 'answer_start': ...</td>\n",
       "      <td>tydiqa</td>\n",
       "    </tr>\n",
       "    <tr>\n",
       "      <th>17046</th>\n",
       "      <td>นภัทร อินทร์ใจเอื้อมีมารดาชื่อว่าอะไร?</td>\n",
       "      <td>กันเกิดเมื่อวันที่ 23 ตุลาคม พ.ศ. 2533 จังหวัด...</td>\n",
       "      <td>{'text': ['นางวรรณา อินทร์ใจเอื้อ', 'นางวรรณา ...</td>\n",
       "      <td>tydiqa</td>\n",
       "    </tr>\n",
       "    <tr>\n",
       "      <th>17047</th>\n",
       "      <td>หม่อมราชวงศ์สุขุมพันธุ์ บริพัตร เกิดเมื่อไหร่?</td>\n",
       "      <td>รองศาสตราจารย์ หม่อมราชวงศ์สุขุมพันธุ์ บริพัตร...</td>\n",
       "      <td>{'text': ['22 กันยายน 2495', '22 กันยายน 2495'...</td>\n",
       "      <td>tydiqa</td>\n",
       "    </tr>\n",
       "  </tbody>\n",
       "</table>\n",
       "<p>17048 rows × 4 columns</p>\n",
       "</div>"
      ],
      "text/plain": [
       "                                                question   \n",
       "0             พัทธ์ธีรา ศรุติพงศ์โภคิน เกิดวันที่เท่าไร?  \\\n",
       "1            พัทธ์ธีรา ศรุติพงศ์โภคิน มีฃื่อเล่นว่าอะไร?   \n",
       "2                  พัทธ์ธีรา ศรุติพงศ์โภคิน ทำอาชีพอะไร?   \n",
       "3      พัทธ์ธีรา ศรุติพงศ์โภคิน จบการศึกษาจากประเทศอะไร?   \n",
       "4                              บิดาของคลีโอพัตราเป็นใคร?   \n",
       "...                                                  ...   \n",
       "17043       หนังสือการ์ตูนชานะ นักรบเนตรอัคคี มีกี่เล่ม?   \n",
       "17044        ไบโอช็อก อินฟินิต เปิดตัวครั้งแรกเมื่อไหร่?   \n",
       "17045          ยู ซึง-โฮ เริ่มเข้าวงการบันเทิงเมื่อไหร่?   \n",
       "17046             นภัทร อินทร์ใจเอื้อมีมารดาชื่อว่าอะไร?   \n",
       "17047     หม่อมราชวงศ์สุขุมพันธุ์ บริพัตร เกิดเมื่อไหร่?   \n",
       "\n",
       "                                                 context   \n",
       "0      พัทธ์ธีรา ศรุติพงศ์โภคิน (เกิด 3 ธันวาคม พ.ศ. ...  \\\n",
       "1      พัทธ์ธีรา ศรุติพงศ์โภคิน (เกิด 3 ธันวาคม พ.ศ. ...   \n",
       "2      พัทธ์ธีรา ศรุติพงศ์โภคิน (เกิด 3 ธันวาคม พ.ศ. ...   \n",
       "3      พัทธ์ธีรา ศรุติพงศ์โภคิน (เกิด 3 ธันวาคม พ.ศ. ...   \n",
       "4      คลีโอพัตราที่ 7 ฟิโลพาเธอร์ (กรีก: Κλεοπάτρα θ...   \n",
       "...                                                  ...   \n",
       "17043  นิยาย ชานะ นักรบเนตรอัคคี แต่งโดย ยาชิจิโร ทาค...   \n",
       "17044  ไบโอช็อก อินฟินิต (English: BioShock Infinite)...   \n",
       "17045  ยู ซึง-โฮเดบิวต์เมื่อปี 1999 กับผลงานโฆษณาของ ...   \n",
       "17046  กันเกิดเมื่อวันที่ 23 ตุลาคม พ.ศ. 2533 จังหวัด...   \n",
       "17047  รองศาสตราจารย์ หม่อมราชวงศ์สุขุมพันธุ์ บริพัตร...   \n",
       "\n",
       "                                                 answers  source  \n",
       "0      {'text': ['3 ธันวาคม พ.ศ. 2533'], 'answer_star...    iapp  \n",
       "1      {'text': ['อร'], 'answer_start': [68], 'answer...    iapp  \n",
       "2      {'text': ['นักแสดงหญิงชาวไทย'], 'answer_start'...    iapp  \n",
       "3      {'text': ['ประเทศนิวซีแลนด์'], 'answer_start':...    iapp  \n",
       "4      {'text': ['ทอเลมีที่ 12 ออเลติส'], 'answer_sta...    iapp  \n",
       "...                                                  ...     ...  \n",
       "17043  {'text': ['22', '26'], 'answer_start': [267, 9...  tydiqa  \n",
       "17044  {'text': ['26 มีนาคม พ.ศ. 2556', '26 มีนาคม พ....  tydiqa  \n",
       "17045  {'text': ['ปี 1999', '1999'], 'answer_start': ...  tydiqa  \n",
       "17046  {'text': ['นางวรรณา อินทร์ใจเอื้อ', 'นางวรรณา ...  tydiqa  \n",
       "17047  {'text': ['22 กันยายน 2495', '22 กันยายน 2495'...  tydiqa  \n",
       "\n",
       "[17048 rows x 4 columns]"
      ]
     },
     "execution_count": 20,
     "metadata": {},
     "output_type": "execute_result"
    }
   ],
   "source": [
    "final = pd.concat([iapp, thaiqa, xquad, tydiqa], ignore_index=True)\n",
    "final"
   ]
  },
  {
   "cell_type": "code",
   "execution_count": 21,
   "metadata": {},
   "outputs": [
    {
     "name": "stdout",
     "output_type": "stream",
     "text": [
      "Before dropping duplicates: 17048\n",
      "Values per source: source\n",
      "iapp      7242\n",
      "tydiqa    4542\n",
      "thaiqa    4074\n",
      "xquad     1190\n",
      "Name: count, dtype: int64\n",
      "\n",
      "After dropping duplicates: 16980\n",
      "Values per source: source\n",
      "iapp      7226\n",
      "tydiqa    4523\n",
      "thaiqa    4051\n",
      "xquad     1180\n",
      "Name: count, dtype: int64\n"
     ]
    }
   ],
   "source": [
    "# Drop duplicates to avoid accidentally leaking data into the test set\n",
    "print(f\"Before dropping duplicates: {len(final)}\")\n",
    "print(f\"Values per source: {final['source'].value_counts()}\")\n",
    "print(\"\")\n",
    "\n",
    "final = final.drop_duplicates(subset=[\"context\", \"question\"], keep=\"first\").reset_index(drop=True)\n",
    "\n",
    "print(f\"After dropping duplicates: {len(final)}\")\n",
    "print(f\"Values per source: {final['source'].value_counts()}\")"
   ]
  },
  {
   "cell_type": "code",
   "execution_count": 22,
   "metadata": {},
   "outputs": [],
   "source": [
    "# Generate unique ids for each row by hashing the context and question\n",
    "final[\"id\"] = final.apply(lambda x: hashlib.sha256((x[\"context\"] + x[\"question\"]).encode(\"utf-8\")).hexdigest(), axis=1)"
   ]
  },
  {
   "cell_type": "code",
   "execution_count": 23,
   "metadata": {},
   "outputs": [],
   "source": [
    "final.to_csv(\"data/01_prepare_dataset.csv\", index=False)"
   ]
  },
  {
   "attachments": {},
   "cell_type": "markdown",
   "metadata": {},
   "source": [
    "Next steps:\n",
    "- Translate and back translate the dataset with Google Sheets to and from English (save to `data/02_prepare_dataset_translated.csv`)\n",
    "- Perform Thai Augmentation (`02_Thai_Augmentation.ipynb`)"
   ]
  }
 ],
 "metadata": {
  "kernelspec": {
   "display_name": "qgresearch39",
   "language": "python",
   "name": "python3"
  },
  "language_info": {
   "codemirror_mode": {
    "name": "ipython",
    "version": 3
   },
   "file_extension": ".py",
   "mimetype": "text/x-python",
   "name": "python",
   "nbconvert_exporter": "python",
   "pygments_lexer": "ipython3",
   "version": "3.9.15"
  },
  "orig_nbformat": 4
 },
 "nbformat": 4,
 "nbformat_minor": 2
}
